{
 "cells": [
  {
   "cell_type": "markdown",
   "id": "edfbc71c",
   "metadata": {},
   "source": [
    " ## **Author's Objective**"
   ]
  },
  {
   "cell_type": "markdown",
   "id": "e421b22a",
   "metadata": {},
   "source": [
    "This notebook is was used to help the author understand the basics of exploratory data analysis and creating and end-to-end machine learning pipeline. This is the first attempt at machine learning by the author and his first foray. "
   ]
  },
  {
   "cell_type": "markdown",
   "id": "4d77f3d5",
   "metadata": {},
   "source": [
    " ## **Details**"
   ]
  },
  {
   "cell_type": "markdown",
   "id": "0ba9b6f9",
   "metadata": {},
   "source": [
    "Introductory notebook on ML basics from Kaggle.\n",
    "<br>\n",
    "https://www.kaggle.com/c/titanic\n",
    "<br>\n",
    "Completed Jan 2024"
   ]
  },
  {
   "cell_type": "markdown",
   "id": "d4eea0b3",
   "metadata": {},
   "source": [
    " ## **Challenge Objective**"
   ]
  },
  {
   "cell_type": "markdown",
   "id": "e01d9f75",
   "metadata": {},
   "source": [
    "Create a model that predicts which passengers survived the Titanic shipwreck."
   ]
  },
  {
   "cell_type": "markdown",
   "id": "af54d197-a42c-473f-bc37-dee395276b32",
   "metadata": {},
   "source": [
    " ## **Workflow**"
   ]
  },
  {
   "cell_type": "markdown",
   "id": "47d184c3-129f-407a-9fa1-85b94296c45f",
   "metadata": {},
   "source": [
    "- Import libraries\n",
    "- Import datasets\n",
    "- Data pre-processing\n",
    "- Test feature correlation against target variable (single)\n",
    "- Test feature correlation against target variable (multiple)\n",
    "- Feature engineering\n",
    "- Drop features\n",
    "- Convert to ml ready format\n",
    "- Split training and test data\n",
    "- Select model\n",
    "- Test and predict for selected models "
   ]
  },
  {
   "cell_type": "markdown",
   "id": "c9374b46-9c96-4fef-a358-bcffea820ad2",
   "metadata": {},
   "source": [
    "## **Import Libraries**"
   ]
  },
  {
   "cell_type": "code",
   "execution_count": 1,
   "id": "2f78a97d-f937-451c-921d-12a292611233",
   "metadata": {},
   "outputs": [],
   "source": [
    "# data analysis\n",
    "\n",
    "import pandas as pd #data manipulation and handling\n",
    "import numpy as np #mathematical functions\n",
    "import random as rd #to generate random data \n",
    "\n",
    "# visulisation\n",
    "\n",
    "import seaborn as sns #drawing statistical plots\n",
    "import matplotlib.pyplot as plt #plotting graphs\n",
    "%matplotlib inline \n",
    "\n",
    "# machine learning\n",
    "\n",
    "#logistic function for binary classification\n",
    "from sklearn.linear_model import LogisticRegression \n",
    "#support vector machine, linear and non-linear classification using kernels\n",
    "from sklearn.svm import SVC, LinearSVC \n",
    "#ensemble classification method with multiple decision trees\n",
    "from sklearn.ensemble import RandomForestClassifier \n",
    "#classifies data points based on 'K' nearest neighbours\n",
    "from sklearn.neighbors import KNeighborsClassifier \n",
    "#implements gaussian naive bayes algorithm for classification\n",
    "from sklearn.naive_bayes import GaussianNB \n",
    "# a type of linear classifier that classifies objects into binary classes\n",
    "from sklearn.linear_model import Perceptron\n",
    "#stochastic gradient descent classifier, implements a linear classifier with stochastic gradient descent learning\n",
    "from sklearn.linear_model import SGDClassifier \n",
    "#creates a model that predicts the value of a target variable by learning simple decision rules from the data features\n",
    "from sklearn.tree import DecisionTreeClassifier \n",
    "\n",
    "# evaluation\n",
    "from sklearn.metrics import accuracy_score"
   ]
  },
  {
   "cell_type": "markdown",
   "id": "5baeea78-b613-437e-86a3-81f211bda738",
   "metadata": {},
   "source": [
    "## **Import Datasets**"
   ]
  },
  {
   "cell_type": "code",
   "execution_count": 2,
   "id": "a0e8d623-bea6-4b8f-8485-5af79a5e25b2",
   "metadata": {},
   "outputs": [],
   "source": [
    "train_df = pd.read_csv(\"data/train.csv\")\n",
    "test_df = pd.read_csv(\"data/test.csv\")\n",
    "combine_df = [train_df, test_df]"
   ]
  },
  {
   "cell_type": "markdown",
   "id": "10a9fac7-a3bc-412b-a8b0-23e8e84f69ee",
   "metadata": {},
   "source": [
    "## **Data Pre-processing**"
   ]
  },
  {
   "cell_type": "markdown",
   "id": "4e4a501e-1cf9-43fd-98b7-59c4f2cf6495",
   "metadata": {},
   "source": [
    "#### **Check Features**"
   ]
  },
  {
   "cell_type": "code",
   "execution_count": 3,
   "id": "33f34926-20d2-457f-8de4-95bca5a7c966",
   "metadata": {},
   "outputs": [
    {
     "name": "stdout",
     "output_type": "stream",
     "text": [
      "['PassengerId' 'Survived' 'Pclass' 'Name' 'Sex' 'Age' 'SibSp' 'Parch'\n",
      " 'Ticket' 'Fare' 'Cabin' 'Embarked']\n"
     ]
    },
    {
     "data": {
      "text/html": [
       "<div>\n",
       "<style scoped>\n",
       "    .dataframe tbody tr th:only-of-type {\n",
       "        vertical-align: middle;\n",
       "    }\n",
       "\n",
       "    .dataframe tbody tr th {\n",
       "        vertical-align: top;\n",
       "    }\n",
       "\n",
       "    .dataframe thead th {\n",
       "        text-align: right;\n",
       "    }\n",
       "</style>\n",
       "<table border=\"1\" class=\"dataframe\">\n",
       "  <thead>\n",
       "    <tr style=\"text-align: right;\">\n",
       "      <th></th>\n",
       "      <th>PassengerId</th>\n",
       "      <th>Survived</th>\n",
       "      <th>Pclass</th>\n",
       "      <th>Name</th>\n",
       "      <th>Sex</th>\n",
       "      <th>Age</th>\n",
       "      <th>SibSp</th>\n",
       "      <th>Parch</th>\n",
       "      <th>Ticket</th>\n",
       "      <th>Fare</th>\n",
       "      <th>Cabin</th>\n",
       "      <th>Embarked</th>\n",
       "    </tr>\n",
       "  </thead>\n",
       "  <tbody>\n",
       "    <tr>\n",
       "      <th>0</th>\n",
       "      <td>1</td>\n",
       "      <td>0</td>\n",
       "      <td>3</td>\n",
       "      <td>Braund, Mr. Owen Harris</td>\n",
       "      <td>male</td>\n",
       "      <td>22.0</td>\n",
       "      <td>1</td>\n",
       "      <td>0</td>\n",
       "      <td>A/5 21171</td>\n",
       "      <td>7.2500</td>\n",
       "      <td>NaN</td>\n",
       "      <td>S</td>\n",
       "    </tr>\n",
       "    <tr>\n",
       "      <th>1</th>\n",
       "      <td>2</td>\n",
       "      <td>1</td>\n",
       "      <td>1</td>\n",
       "      <td>Cumings, Mrs. John Bradley (Florence Briggs Th...</td>\n",
       "      <td>female</td>\n",
       "      <td>38.0</td>\n",
       "      <td>1</td>\n",
       "      <td>0</td>\n",
       "      <td>PC 17599</td>\n",
       "      <td>71.2833</td>\n",
       "      <td>C85</td>\n",
       "      <td>C</td>\n",
       "    </tr>\n",
       "    <tr>\n",
       "      <th>2</th>\n",
       "      <td>3</td>\n",
       "      <td>1</td>\n",
       "      <td>3</td>\n",
       "      <td>Heikkinen, Miss. Laina</td>\n",
       "      <td>female</td>\n",
       "      <td>26.0</td>\n",
       "      <td>0</td>\n",
       "      <td>0</td>\n",
       "      <td>STON/O2. 3101282</td>\n",
       "      <td>7.9250</td>\n",
       "      <td>NaN</td>\n",
       "      <td>S</td>\n",
       "    </tr>\n",
       "    <tr>\n",
       "      <th>3</th>\n",
       "      <td>4</td>\n",
       "      <td>1</td>\n",
       "      <td>1</td>\n",
       "      <td>Futrelle, Mrs. Jacques Heath (Lily May Peel)</td>\n",
       "      <td>female</td>\n",
       "      <td>35.0</td>\n",
       "      <td>1</td>\n",
       "      <td>0</td>\n",
       "      <td>113803</td>\n",
       "      <td>53.1000</td>\n",
       "      <td>C123</td>\n",
       "      <td>S</td>\n",
       "    </tr>\n",
       "    <tr>\n",
       "      <th>4</th>\n",
       "      <td>5</td>\n",
       "      <td>0</td>\n",
       "      <td>3</td>\n",
       "      <td>Allen, Mr. William Henry</td>\n",
       "      <td>male</td>\n",
       "      <td>35.0</td>\n",
       "      <td>0</td>\n",
       "      <td>0</td>\n",
       "      <td>373450</td>\n",
       "      <td>8.0500</td>\n",
       "      <td>NaN</td>\n",
       "      <td>S</td>\n",
       "    </tr>\n",
       "  </tbody>\n",
       "</table>\n",
       "</div>"
      ],
      "text/plain": [
       "   PassengerId  Survived  Pclass  \\\n",
       "0            1         0       3   \n",
       "1            2         1       1   \n",
       "2            3         1       3   \n",
       "3            4         1       1   \n",
       "4            5         0       3   \n",
       "\n",
       "                                                Name     Sex   Age  SibSp  \\\n",
       "0                            Braund, Mr. Owen Harris    male  22.0      1   \n",
       "1  Cumings, Mrs. John Bradley (Florence Briggs Th...  female  38.0      1   \n",
       "2                             Heikkinen, Miss. Laina  female  26.0      0   \n",
       "3       Futrelle, Mrs. Jacques Heath (Lily May Peel)  female  35.0      1   \n",
       "4                           Allen, Mr. William Henry    male  35.0      0   \n",
       "\n",
       "   Parch            Ticket     Fare Cabin Embarked  \n",
       "0      0         A/5 21171   7.2500   NaN        S  \n",
       "1      0          PC 17599  71.2833   C85        C  \n",
       "2      0  STON/O2. 3101282   7.9250   NaN        S  \n",
       "3      0            113803  53.1000  C123        S  \n",
       "4      0            373450   8.0500   NaN        S  "
      ]
     },
     "execution_count": 3,
     "metadata": {},
     "output_type": "execute_result"
    }
   ],
   "source": [
    "# understand dataset features\n",
    "print(train_df.columns.values)\n",
    "train_df.head()"
   ]
  },
  {
   "cell_type": "markdown",
   "id": "d91952e7-de38-437a-af34-e48da98d9fdf",
   "metadata": {},
   "source": [
    "#### **Data Dictionary** "
   ]
  },
  {
   "cell_type": "markdown",
   "id": "a46316a5-98eb-426a-8fe5-5c2eb8f214f1",
   "metadata": {},
   "source": [
    "| Variable | Defintion | Key |\n",
    "|----|-----|-----|\n",
    "|survival|survival|0 = no, 1 = yes|\n",
    "|pclass|ticket class| 1 = 1st, etc|\n",
    "|sex|sex||\n",
    "|age|age in years||\n",
    "|sibsp|# of siblings/spouse onboard||\n",
    "|parch|# of parents/children onboard||\n",
    "|ticket|ticker number||\n",
    "|fare|passenger fare||\n",
    "|cabin|cabin number||\n",
    "|embarked|port of embarkation|c = cherbourg, q = queenstown, s = southampton|"
   ]
  },
  {
   "cell_type": "markdown",
   "id": "4154fff8-edee-4346-a069-d656a58c012c",
   "metadata": {},
   "source": [
    "#### **Understand feature types**"
   ]
  },
  {
   "cell_type": "markdown",
   "id": "712c0453-01ba-4584-b615-f6776d814487",
   "metadata": {},
   "source": [
    "Understanding these allow us to select the appropriate plots for visulisation\n",
    "<br>\n",
    "<br>\n",
    "categorical: survived, sex, embarked\n",
    "<br>\n",
    "ordinal: pclass #data whose order carries significance\n",
    "<br>\n",
    "numerical - continous: survival, age, sibsp, parch, fare\n",
    "<br>\n",
    "numerical - discrete: nil\n",
    "<br>\n",
    "numerical - timeseries: nil\n",
    "<br>\n",
    "mixed data types: ticket, cabin"
   ]
  },
  {
   "cell_type": "markdown",
   "id": "6fdc8478-497a-473c-b753-d01b603a1a41",
   "metadata": {},
   "source": [
    "#### **Check for blank, null or empty values & object types**\n",
    "<br>\n",
    "We would need to correct these features and help us in converting later"
   ]
  },
  {
   "cell_type": "code",
   "execution_count": 4,
   "id": "5bb91610-f3c9-43e6-968e-e1de77d32989",
   "metadata": {},
   "outputs": [
    {
     "name": "stdout",
     "output_type": "stream",
     "text": [
      "________________________________________\n",
      "Training Data\n",
      "________________________________________\n",
      "<class 'pandas.core.frame.DataFrame'>\n",
      "RangeIndex: 891 entries, 0 to 890\n",
      "Data columns (total 12 columns):\n",
      " #   Column       Non-Null Count  Dtype  \n",
      "---  ------       --------------  -----  \n",
      " 0   PassengerId  891 non-null    int64  \n",
      " 1   Survived     891 non-null    int64  \n",
      " 2   Pclass       891 non-null    int64  \n",
      " 3   Name         891 non-null    object \n",
      " 4   Sex          891 non-null    object \n",
      " 5   Age          714 non-null    float64\n",
      " 6   SibSp        891 non-null    int64  \n",
      " 7   Parch        891 non-null    int64  \n",
      " 8   Ticket       891 non-null    object \n",
      " 9   Fare         891 non-null    float64\n",
      " 10  Cabin        204 non-null    object \n",
      " 11  Embarked     889 non-null    object \n",
      "dtypes: float64(2), int64(5), object(5)\n",
      "memory usage: 83.7+ KB\n",
      "________________________________________\n",
      "Test Data\n",
      "________________________________________\n",
      "<class 'pandas.core.frame.DataFrame'>\n",
      "RangeIndex: 418 entries, 0 to 417\n",
      "Data columns (total 11 columns):\n",
      " #   Column       Non-Null Count  Dtype  \n",
      "---  ------       --------------  -----  \n",
      " 0   PassengerId  418 non-null    int64  \n",
      " 1   Pclass       418 non-null    int64  \n",
      " 2   Name         418 non-null    object \n",
      " 3   Sex          418 non-null    object \n",
      " 4   Age          332 non-null    float64\n",
      " 5   SibSp        418 non-null    int64  \n",
      " 6   Parch        418 non-null    int64  \n",
      " 7   Ticket       418 non-null    object \n",
      " 8   Fare         417 non-null    float64\n",
      " 9   Cabin        91 non-null     object \n",
      " 10  Embarked     418 non-null    object \n",
      "dtypes: float64(2), int64(4), object(5)\n",
      "memory usage: 36.0+ KB\n"
     ]
    }
   ],
   "source": [
    "print('_'*40)\n",
    "print('Training Data')\n",
    "print('_'*40)\n",
    "train_df.info()\n",
    "print('_'*40)\n",
    "print('Test Data')\n",
    "print('_'*40)\n",
    "test_df.info()"
   ]
  },
  {
   "cell_type": "markdown",
   "id": "a94c93f4-37e3-4cbf-b9a2-44f815bf7205",
   "metadata": {},
   "source": [
    "**Training Data:**\n",
    "* Age (177 missing)\n",
    "* Cabin (687 missing)\n",
    "* Embarked (2 missing)\n"
   ]
  },
  {
   "cell_type": "markdown",
   "id": "c121895a-ff61-462f-9a36-b9f1170ada06",
   "metadata": {},
   "source": [
    "**Test Data**\n",
    "  * Age (86 missing)\n",
    "  * Fare (1 missing)\n",
    "  * Cabin (327 missing)"
   ]
  },
  {
   "cell_type": "markdown",
   "id": "f53a3274-bac7-445d-bcb3-07a97df8921a",
   "metadata": {},
   "source": [
    "#### **Decision**"
   ]
  },
  {
   "cell_type": "markdown",
   "id": "66af3b8b-487e-402d-9ee8-7f0dc5506294",
   "metadata": {},
   "source": [
    "To fill age, embarked and fare features. Drop cabin as high count of missing values."
   ]
  },
  {
   "cell_type": "markdown",
   "id": "3b3f7ce7-1210-4f40-8276-0dad875383bc",
   "metadata": {},
   "source": [
    "#### **Check Descriptive Statistics**\n",
    "To help with the feature selection later"
   ]
  },
  {
   "cell_type": "code",
   "execution_count": 5,
   "id": "b8af97a7-f0ab-414f-9da2-c381152e9ab6",
   "metadata": {},
   "outputs": [
    {
     "data": {
      "text/html": [
       "<div>\n",
       "<style scoped>\n",
       "    .dataframe tbody tr th:only-of-type {\n",
       "        vertical-align: middle;\n",
       "    }\n",
       "\n",
       "    .dataframe tbody tr th {\n",
       "        vertical-align: top;\n",
       "    }\n",
       "\n",
       "    .dataframe thead th {\n",
       "        text-align: right;\n",
       "    }\n",
       "</style>\n",
       "<table border=\"1\" class=\"dataframe\">\n",
       "  <thead>\n",
       "    <tr style=\"text-align: right;\">\n",
       "      <th></th>\n",
       "      <th>PassengerId</th>\n",
       "      <th>Survived</th>\n",
       "      <th>Pclass</th>\n",
       "      <th>Age</th>\n",
       "      <th>SibSp</th>\n",
       "      <th>Parch</th>\n",
       "      <th>Fare</th>\n",
       "    </tr>\n",
       "  </thead>\n",
       "  <tbody>\n",
       "    <tr>\n",
       "      <th>count</th>\n",
       "      <td>891.000000</td>\n",
       "      <td>891.000000</td>\n",
       "      <td>891.000000</td>\n",
       "      <td>714.000000</td>\n",
       "      <td>891.000000</td>\n",
       "      <td>891.000000</td>\n",
       "      <td>891.000000</td>\n",
       "    </tr>\n",
       "    <tr>\n",
       "      <th>mean</th>\n",
       "      <td>446.000000</td>\n",
       "      <td>0.383838</td>\n",
       "      <td>2.308642</td>\n",
       "      <td>29.699118</td>\n",
       "      <td>0.523008</td>\n",
       "      <td>0.381594</td>\n",
       "      <td>32.204208</td>\n",
       "    </tr>\n",
       "    <tr>\n",
       "      <th>std</th>\n",
       "      <td>257.353842</td>\n",
       "      <td>0.486592</td>\n",
       "      <td>0.836071</td>\n",
       "      <td>14.526497</td>\n",
       "      <td>1.102743</td>\n",
       "      <td>0.806057</td>\n",
       "      <td>49.693429</td>\n",
       "    </tr>\n",
       "    <tr>\n",
       "      <th>min</th>\n",
       "      <td>1.000000</td>\n",
       "      <td>0.000000</td>\n",
       "      <td>1.000000</td>\n",
       "      <td>0.420000</td>\n",
       "      <td>0.000000</td>\n",
       "      <td>0.000000</td>\n",
       "      <td>0.000000</td>\n",
       "    </tr>\n",
       "    <tr>\n",
       "      <th>25%</th>\n",
       "      <td>223.500000</td>\n",
       "      <td>0.000000</td>\n",
       "      <td>2.000000</td>\n",
       "      <td>20.125000</td>\n",
       "      <td>0.000000</td>\n",
       "      <td>0.000000</td>\n",
       "      <td>7.910400</td>\n",
       "    </tr>\n",
       "    <tr>\n",
       "      <th>50%</th>\n",
       "      <td>446.000000</td>\n",
       "      <td>0.000000</td>\n",
       "      <td>3.000000</td>\n",
       "      <td>28.000000</td>\n",
       "      <td>0.000000</td>\n",
       "      <td>0.000000</td>\n",
       "      <td>14.454200</td>\n",
       "    </tr>\n",
       "    <tr>\n",
       "      <th>75%</th>\n",
       "      <td>668.500000</td>\n",
       "      <td>1.000000</td>\n",
       "      <td>3.000000</td>\n",
       "      <td>38.000000</td>\n",
       "      <td>1.000000</td>\n",
       "      <td>0.000000</td>\n",
       "      <td>31.000000</td>\n",
       "    </tr>\n",
       "    <tr>\n",
       "      <th>max</th>\n",
       "      <td>891.000000</td>\n",
       "      <td>1.000000</td>\n",
       "      <td>3.000000</td>\n",
       "      <td>80.000000</td>\n",
       "      <td>8.000000</td>\n",
       "      <td>6.000000</td>\n",
       "      <td>512.329200</td>\n",
       "    </tr>\n",
       "  </tbody>\n",
       "</table>\n",
       "</div>"
      ],
      "text/plain": [
       "       PassengerId    Survived      Pclass         Age       SibSp  \\\n",
       "count   891.000000  891.000000  891.000000  714.000000  891.000000   \n",
       "mean    446.000000    0.383838    2.308642   29.699118    0.523008   \n",
       "std     257.353842    0.486592    0.836071   14.526497    1.102743   \n",
       "min       1.000000    0.000000    1.000000    0.420000    0.000000   \n",
       "25%     223.500000    0.000000    2.000000   20.125000    0.000000   \n",
       "50%     446.000000    0.000000    3.000000   28.000000    0.000000   \n",
       "75%     668.500000    1.000000    3.000000   38.000000    1.000000   \n",
       "max     891.000000    1.000000    3.000000   80.000000    8.000000   \n",
       "\n",
       "            Parch        Fare  \n",
       "count  891.000000  891.000000  \n",
       "mean     0.381594   32.204208  \n",
       "std      0.806057   49.693429  \n",
       "min      0.000000    0.000000  \n",
       "25%      0.000000    7.910400  \n",
       "50%      0.000000   14.454200  \n",
       "75%      0.000000   31.000000  \n",
       "max      6.000000  512.329200  "
      ]
     },
     "execution_count": 5,
     "metadata": {},
     "output_type": "execute_result"
    }
   ],
   "source": [
    "# check descriptive statistics for numerical data only\n",
    "train_df.describe()"
   ]
  },
  {
   "cell_type": "markdown",
   "id": "d8c4ff37-de46-4086-9ce6-70c6ab541ad5",
   "metadata": {},
   "source": [
    "**Insights from training data (numerical)**\n",
    "* check mean\n",
    "* check range\n",
    "* check data validity (if missing a lot)"
   ]
  },
  {
   "cell_type": "markdown",
   "id": "49c388e4-265b-41b1-b8ad-423c4aae2c2b",
   "metadata": {},
   "source": [
    "**Higher Survival Rate**\n",
    "<br>\n",
    "Training data survival rate 38%, actual survival rate was 32%."
   ]
  },
  {
   "cell_type": "markdown",
   "id": "b3769e58-7911-4e23-a3c9-d81431b24931",
   "metadata": {},
   "source": [
    "**Even Passenger Class Distribution**\n",
    "<br>\n",
    "Evenly distributed at 2.31, slight skew to lower classes"
   ]
  },
  {
   "cell_type": "markdown",
   "id": "05f1f570-7e15-4eb7-8f02-c134703ef273",
   "metadata": {},
   "source": [
    "**Broad Age Range**\n",
    "<br>\n",
    "Average age 29.7 years, however missing data values might skew the result. Range of 0.4 - 80 years old"
   ]
  },
  {
   "cell_type": "markdown",
   "id": "71b5613e-d2a8-4d0f-89db-6adc6e3fe834",
   "metadata": {},
   "source": [
    "**Half travelled alone, some big families onboard**\n",
    "<br>\n",
    "Mean was 0.523 and range was 0-8."
   ]
  },
  {
   "cell_type": "markdown",
   "id": "40c45bdd-e6d2-4836-8a1c-55022fe949ea",
   "metadata": {},
   "source": [
    "**Most travelled without family**\n",
    "<br>\n",
    "Mean of 0.381."
   ]
  },
  {
   "cell_type": "markdown",
   "id": "4123b61c-6409-4ec2-a491-211c4b1377e3",
   "metadata": {},
   "source": [
    "**Large range of fares, some travelled free**\n",
    "<br>\n",
    "Min of 0, standard deviation of 49.7, which is larger than the mean of 32.2, indicating a large sd."
   ]
  },
  {
   "cell_type": "code",
   "execution_count": 6,
   "id": "8169fae6-08e0-429f-b2a2-84d0b229d304",
   "metadata": {},
   "outputs": [
    {
     "data": {
      "text/html": [
       "<div>\n",
       "<style scoped>\n",
       "    .dataframe tbody tr th:only-of-type {\n",
       "        vertical-align: middle;\n",
       "    }\n",
       "\n",
       "    .dataframe tbody tr th {\n",
       "        vertical-align: top;\n",
       "    }\n",
       "\n",
       "    .dataframe thead th {\n",
       "        text-align: right;\n",
       "    }\n",
       "</style>\n",
       "<table border=\"1\" class=\"dataframe\">\n",
       "  <thead>\n",
       "    <tr style=\"text-align: right;\">\n",
       "      <th></th>\n",
       "      <th>Name</th>\n",
       "      <th>Sex</th>\n",
       "      <th>Ticket</th>\n",
       "      <th>Cabin</th>\n",
       "      <th>Embarked</th>\n",
       "    </tr>\n",
       "  </thead>\n",
       "  <tbody>\n",
       "    <tr>\n",
       "      <th>count</th>\n",
       "      <td>891</td>\n",
       "      <td>891</td>\n",
       "      <td>891</td>\n",
       "      <td>204</td>\n",
       "      <td>889</td>\n",
       "    </tr>\n",
       "    <tr>\n",
       "      <th>unique</th>\n",
       "      <td>891</td>\n",
       "      <td>2</td>\n",
       "      <td>681</td>\n",
       "      <td>147</td>\n",
       "      <td>3</td>\n",
       "    </tr>\n",
       "    <tr>\n",
       "      <th>top</th>\n",
       "      <td>Braund, Mr. Owen Harris</td>\n",
       "      <td>male</td>\n",
       "      <td>347082</td>\n",
       "      <td>B96 B98</td>\n",
       "      <td>S</td>\n",
       "    </tr>\n",
       "    <tr>\n",
       "      <th>freq</th>\n",
       "      <td>1</td>\n",
       "      <td>577</td>\n",
       "      <td>7</td>\n",
       "      <td>4</td>\n",
       "      <td>644</td>\n",
       "    </tr>\n",
       "  </tbody>\n",
       "</table>\n",
       "</div>"
      ],
      "text/plain": [
       "                           Name   Sex  Ticket    Cabin Embarked\n",
       "count                       891   891     891      204      889\n",
       "unique                      891     2     681      147        3\n",
       "top     Braund, Mr. Owen Harris  male  347082  B96 B98        S\n",
       "freq                          1   577       7        4      644"
      ]
     },
     "execution_count": 6,
     "metadata": {},
     "output_type": "execute_result"
    }
   ],
   "source": [
    "# check descriptive statistics for categorical data only\n",
    "train_df.describe(include=['O'])"
   ]
  },
  {
   "cell_type": "markdown",
   "id": "301f0040-2412-4a38-afb2-164591147202",
   "metadata": {},
   "source": [
    "**Insights from training data (categorical)**"
   ]
  },
  {
   "cell_type": "markdown",
   "id": "34b8db6a-9f62-42a8-b39c-17f84d914576",
   "metadata": {},
   "source": [
    "**Some passengers shared cabins**\n",
    "<br>\n",
    "Unique values of 147 which is lesser than the total count."
   ]
  },
  {
   "cell_type": "markdown",
   "id": "07f4de99-d864-4efe-89ee-ab584a959b0c",
   "metadata": {},
   "source": [
    "**S port is most common for embarkation**\n",
    "<br>\n",
    "Highest frequency at 644. 72% of total passengers."
   ]
  },
  {
   "cell_type": "markdown",
   "id": "575d903c-9eff-4422-a1da-77a8cf0fc8b4",
   "metadata": {},
   "source": [
    "**More males than females onboard**\n",
    "<br>\n",
    "65% males"
   ]
  },
  {
   "cell_type": "markdown",
   "id": "d117e9f2-72ec-43a6-ba8c-5416ea29dcce",
   "metadata": {},
   "source": [
    "**Many duplicate tickets**\n",
    "<br>\n",
    "24% of tickets are duplicated."
   ]
  },
  {
   "cell_type": "markdown",
   "id": "748a0841-cf99-4a40-9459-3cbb1031c191",
   "metadata": {},
   "source": [
    "**Conclusions for data pre-processing (Part 1)**"
   ]
  },
  {
   "cell_type": "markdown",
   "id": "a277555b-c428-433c-996a-d25662e277eb",
   "metadata": {},
   "source": [
    "**Completing**"
   ]
  },
  {
   "cell_type": "markdown",
   "id": "20a7275c-a7f0-428c-b2a4-51372d381dc6",
   "metadata": {},
   "source": [
    "* What features are worth completing null/missing values for "
   ]
  },
  {
   "cell_type": "markdown",
   "id": "cf213a7a-2f7c-4f84-ad38-c853b63b7526",
   "metadata": {},
   "source": [
    "**Correcting**"
   ]
  },
  {
   "cell_type": "markdown",
   "id": "b132af03-89e6-4376-ae0a-e946cf676284",
   "metadata": {},
   "source": [
    "* Drop high null/missing ratio\n",
    "* Drop features not linked to target variable\n",
    "* Drop high duplicate ratio"
   ]
  },
  {
   "cell_type": "markdown",
   "id": "025844c2-1382-419c-8aa4-f66211273da5",
   "metadata": {},
   "source": [
    "**Creating**"
   ]
  },
  {
   "cell_type": "markdown",
   "id": "bbc02386-bb50-48d1-a3c9-2eb0f24408a6",
   "metadata": {},
   "source": [
    "* What features can be combined?\n",
    "* What features can be extracted?\n",
    "* What feature types can be changed?"
   ]
  },
  {
   "cell_type": "markdown",
   "id": "6e86ba0a-0cc4-48cc-a6c4-5ffd0a1383ec",
   "metadata": {},
   "source": [
    "1. Create a new feature to get total count of family members on board\n",
    "2. Extract title from name feature\n",
    "3. Create new feature for age band. Change it from numerical to cateogorical\n",
    "4. Fare range feature if it might help"
   ]
  },
  {
   "cell_type": "markdown",
   "id": "7f5e7c15-7171-4478-b00c-b793ee81163b",
   "metadata": {},
   "source": [
    "**Classifying**"
   ]
  },
  {
   "cell_type": "markdown",
   "id": "4bf9b256-eed5-4238-b28e-36ed09b3f475",
   "metadata": {},
   "source": [
    "* What assumptions can we dervive from the earlier insights?"
   ]
  },
  {
   "cell_type": "markdown",
   "id": "affcb3aa-110d-4c8c-a4d3-cdaf8bb476cb",
   "metadata": {},
   "source": [
    "**Corelation**"
   ]
  },
  {
   "cell_type": "markdown",
   "id": "b42f9676-34be-407d-b8e7-eddeeb005760",
   "metadata": {},
   "source": [
    "* What features can we do quick correlations for? Test against modelled correlations later "
   ]
  },
  {
   "cell_type": "markdown",
   "id": "34aedb6b-1a38-46fe-8274-ca9ec4da253e",
   "metadata": {},
   "source": [
    "## **Data Pre-Processing Table - Update 1**"
   ]
  },
  {
   "cell_type": "markdown",
   "id": "181544c4-776d-4cfd-8f3f-fa69f3c03a09",
   "metadata": {},
   "source": [
    "Below is a consolidation of the conclusions and actions to be made on features based on the preliminary analysis thus far."
   ]
  },
  {
   "cell_type": "markdown",
   "id": "2358f17b-94c4-4095-b5be-ee3754527fa0",
   "metadata": {},
   "source": [
    "| Feature | Status | Action | Reason |\n",
    "|----|-----|-----|----|\n",
    "|Survived|-|-|Target Variable|\n",
    "|Pclass|In Progress|Test correlation|Assumption that upper class passenger are more likely to survive|\n",
    "|Sex|In Progress|Test correlation|Assumption that women are more likely to survive|\n",
    "|SibSp|In Progress|Test correlation, create family member feature|Assumption that children are more likely to survive|\n",
    "|Parch|In Progress|Test correlation, create family member feature|Assumption that children are more likely to survive|\n",
    "|Name|In Progress|Create New Feature, drop name|Extract title|\n",
    "|Fare|In Progress|Create New Feature|Fare Range might yield insights|\n",
    "|Age|In Progress|Fill missing values, create age band|Might have correlation to survival|\n",
    "|Embarked|In Progress|Fill missing values|Might have correlation to survival|\n",
    "|Ticket|Dropped|-|High ratio of duplicate tickets (22%)|\n",
    "|PassengerId|Dropped|-|Does not contribute to survival rates|\n",
    "|Cabin|Dropped|-|Too many null values (77% missing or null)|\n"
   ]
  },
  {
   "cell_type": "markdown",
   "id": "a8c28954-5991-4643-91c4-f8395697c372",
   "metadata": {},
   "source": [
    "## **Analysis through Pivoting Features**\n"
   ]
  },
  {
   "cell_type": "markdown",
   "id": "917f0c31-a5a6-468d-bedd-dc3843586464",
   "metadata": {},
   "source": [
    "Quickly analyse and test above conclusions by pivoting features against each other."
   ]
  },
  {
   "cell_type": "markdown",
   "id": "c35b0a6a-11f4-4129-8efe-ce76123d4957",
   "metadata": {},
   "source": [
    "#### **Correlation between Pclass and Survival**"
   ]
  },
  {
   "cell_type": "code",
   "execution_count": 7,
   "id": "989d4865-4fa2-4ecf-b3a8-98e4c5534754",
   "metadata": {},
   "outputs": [
    {
     "data": {
      "text/html": [
       "<div>\n",
       "<style scoped>\n",
       "    .dataframe tbody tr th:only-of-type {\n",
       "        vertical-align: middle;\n",
       "    }\n",
       "\n",
       "    .dataframe tbody tr th {\n",
       "        vertical-align: top;\n",
       "    }\n",
       "\n",
       "    .dataframe thead th {\n",
       "        text-align: right;\n",
       "    }\n",
       "</style>\n",
       "<table border=\"1\" class=\"dataframe\">\n",
       "  <thead>\n",
       "    <tr style=\"text-align: right;\">\n",
       "      <th></th>\n",
       "      <th>Pclass</th>\n",
       "      <th>Survived</th>\n",
       "    </tr>\n",
       "  </thead>\n",
       "  <tbody>\n",
       "    <tr>\n",
       "      <th>0</th>\n",
       "      <td>1</td>\n",
       "      <td>0.629630</td>\n",
       "    </tr>\n",
       "    <tr>\n",
       "      <th>1</th>\n",
       "      <td>2</td>\n",
       "      <td>0.472826</td>\n",
       "    </tr>\n",
       "    <tr>\n",
       "      <th>2</th>\n",
       "      <td>3</td>\n",
       "      <td>0.242363</td>\n",
       "    </tr>\n",
       "  </tbody>\n",
       "</table>\n",
       "</div>"
      ],
      "text/plain": [
       "   Pclass  Survived\n",
       "0       1  0.629630\n",
       "1       2  0.472826\n",
       "2       3  0.242363"
      ]
     },
     "execution_count": 7,
     "metadata": {},
     "output_type": "execute_result"
    }
   ],
   "source": [
    "# test corerelation for Pclass and survival/...\n",
    "\n",
    "(train_df[['Pclass', 'Survived']]\n",
    "    .groupby(['Pclass'], as_index = False)\n",
    "    .mean()\n",
    "    .sort_values(by=['Survived'], ascending = False)\n",
    ")"
   ]
  },
  {
   "cell_type": "markdown",
   "id": "59fda379-f69d-437d-88b1-96500be3f352",
   "metadata": {},
   "source": [
    "**Result**"
   ]
  },
  {
   "cell_type": "markdown",
   "id": "25e841d1-587d-46cb-9f8e-89bed8bbf1fa",
   "metadata": {},
   "source": [
    "Assumption proven that **first class passengers have a higher survival rate**. (63%)"
   ]
  },
  {
   "cell_type": "markdown",
   "id": "fb05b584-d0a5-4496-92f4-adb7f05033c1",
   "metadata": {},
   "source": [
    "#### **Correlation between Sex and Survival**"
   ]
  },
  {
   "cell_type": "code",
   "execution_count": 8,
   "id": "57f83bed-351d-4d8f-8286-34060bdaf8be",
   "metadata": {},
   "outputs": [
    {
     "data": {
      "text/html": [
       "<div>\n",
       "<style scoped>\n",
       "    .dataframe tbody tr th:only-of-type {\n",
       "        vertical-align: middle;\n",
       "    }\n",
       "\n",
       "    .dataframe tbody tr th {\n",
       "        vertical-align: top;\n",
       "    }\n",
       "\n",
       "    .dataframe thead th {\n",
       "        text-align: right;\n",
       "    }\n",
       "</style>\n",
       "<table border=\"1\" class=\"dataframe\">\n",
       "  <thead>\n",
       "    <tr style=\"text-align: right;\">\n",
       "      <th></th>\n",
       "      <th>Sex</th>\n",
       "      <th>Survived</th>\n",
       "    </tr>\n",
       "  </thead>\n",
       "  <tbody>\n",
       "    <tr>\n",
       "      <th>0</th>\n",
       "      <td>female</td>\n",
       "      <td>0.742038</td>\n",
       "    </tr>\n",
       "    <tr>\n",
       "      <th>1</th>\n",
       "      <td>male</td>\n",
       "      <td>0.188908</td>\n",
       "    </tr>\n",
       "  </tbody>\n",
       "</table>\n",
       "</div>"
      ],
      "text/plain": [
       "      Sex  Survived\n",
       "0  female  0.742038\n",
       "1    male  0.188908"
      ]
     },
     "execution_count": 8,
     "metadata": {},
     "output_type": "execute_result"
    }
   ],
   "source": [
    "# test correlation for sex and survival\n",
    "\n",
    "(train_df[['Sex','Survived']]\n",
    "    .groupby(['Sex'], as_index=False)\n",
    "    .mean()\n",
    "    .sort_values(by='Survived', ascending = False)\n",
    ")"
   ]
  },
  {
   "cell_type": "markdown",
   "id": "9497a31f-4982-4015-b7bf-c9e7a2812997",
   "metadata": {},
   "source": [
    "**Result**"
   ]
  },
  {
   "cell_type": "markdown",
   "id": "04b60552-c04d-4da9-aea9-22fa70baf7a4",
   "metadata": {},
   "source": [
    "Assumption proven that **females have a higher survival rate.** (74%)"
   ]
  },
  {
   "cell_type": "markdown",
   "id": "9ac5f37c-98fe-4512-9497-e5fdf8b789d8",
   "metadata": {},
   "source": [
    "#### **Correlation between Sibling/Spouse and Survival**"
   ]
  },
  {
   "cell_type": "code",
   "execution_count": 9,
   "id": "30cc7f7c-dbba-4ea9-a846-1072194b6806",
   "metadata": {},
   "outputs": [
    {
     "data": {
      "text/html": [
       "<div>\n",
       "<style scoped>\n",
       "    .dataframe tbody tr th:only-of-type {\n",
       "        vertical-align: middle;\n",
       "    }\n",
       "\n",
       "    .dataframe tbody tr th {\n",
       "        vertical-align: top;\n",
       "    }\n",
       "\n",
       "    .dataframe thead th {\n",
       "        text-align: right;\n",
       "    }\n",
       "</style>\n",
       "<table border=\"1\" class=\"dataframe\">\n",
       "  <thead>\n",
       "    <tr style=\"text-align: right;\">\n",
       "      <th></th>\n",
       "      <th>SibSp</th>\n",
       "      <th>Survived</th>\n",
       "    </tr>\n",
       "  </thead>\n",
       "  <tbody>\n",
       "    <tr>\n",
       "      <th>1</th>\n",
       "      <td>1</td>\n",
       "      <td>0.535885</td>\n",
       "    </tr>\n",
       "    <tr>\n",
       "      <th>2</th>\n",
       "      <td>2</td>\n",
       "      <td>0.464286</td>\n",
       "    </tr>\n",
       "    <tr>\n",
       "      <th>0</th>\n",
       "      <td>0</td>\n",
       "      <td>0.345395</td>\n",
       "    </tr>\n",
       "    <tr>\n",
       "      <th>3</th>\n",
       "      <td>3</td>\n",
       "      <td>0.250000</td>\n",
       "    </tr>\n",
       "    <tr>\n",
       "      <th>4</th>\n",
       "      <td>4</td>\n",
       "      <td>0.166667</td>\n",
       "    </tr>\n",
       "    <tr>\n",
       "      <th>5</th>\n",
       "      <td>5</td>\n",
       "      <td>0.000000</td>\n",
       "    </tr>\n",
       "    <tr>\n",
       "      <th>6</th>\n",
       "      <td>8</td>\n",
       "      <td>0.000000</td>\n",
       "    </tr>\n",
       "  </tbody>\n",
       "</table>\n",
       "</div>"
      ],
      "text/plain": [
       "   SibSp  Survived\n",
       "1      1  0.535885\n",
       "2      2  0.464286\n",
       "0      0  0.345395\n",
       "3      3  0.250000\n",
       "4      4  0.166667\n",
       "5      5  0.000000\n",
       "6      8  0.000000"
      ]
     },
     "execution_count": 9,
     "metadata": {},
     "output_type": "execute_result"
    }
   ],
   "source": [
    "# test correlation between sibling/spouse and surival\n",
    "\n",
    "(train_df[['SibSp','Survived']]\n",
    "    .groupby(['SibSp'], as_index=False)\n",
    "    .mean()\n",
    "    .sort_values(by='Survived', ascending = False)\n",
    ")"
   ]
  },
  {
   "cell_type": "markdown",
   "id": "58227d5b-5665-4ae1-a20d-21b8952a3760",
   "metadata": {},
   "source": [
    "**Result**"
   ]
  },
  {
   "cell_type": "markdown",
   "id": "3d5ece8d-af18-45d9-8f26-27a9d545a1e0",
   "metadata": {},
   "source": [
    "Zero correlation for certain features. To extract individual features."
   ]
  },
  {
   "cell_type": "markdown",
   "id": "458fc3ac-0f8a-440b-9b0e-a6e36733b677",
   "metadata": {},
   "source": [
    "#### **Correlation between Parent/Children and Survival**"
   ]
  },
  {
   "cell_type": "code",
   "execution_count": 10,
   "id": "be973c72-f51e-47d3-94cf-6b6883dc0c70",
   "metadata": {
    "scrolled": true
   },
   "outputs": [
    {
     "data": {
      "text/html": [
       "<div>\n",
       "<style scoped>\n",
       "    .dataframe tbody tr th:only-of-type {\n",
       "        vertical-align: middle;\n",
       "    }\n",
       "\n",
       "    .dataframe tbody tr th {\n",
       "        vertical-align: top;\n",
       "    }\n",
       "\n",
       "    .dataframe thead th {\n",
       "        text-align: right;\n",
       "    }\n",
       "</style>\n",
       "<table border=\"1\" class=\"dataframe\">\n",
       "  <thead>\n",
       "    <tr style=\"text-align: right;\">\n",
       "      <th></th>\n",
       "      <th>Parch</th>\n",
       "      <th>Survived</th>\n",
       "    </tr>\n",
       "  </thead>\n",
       "  <tbody>\n",
       "    <tr>\n",
       "      <th>3</th>\n",
       "      <td>3</td>\n",
       "      <td>0.600000</td>\n",
       "    </tr>\n",
       "    <tr>\n",
       "      <th>1</th>\n",
       "      <td>1</td>\n",
       "      <td>0.550847</td>\n",
       "    </tr>\n",
       "    <tr>\n",
       "      <th>2</th>\n",
       "      <td>2</td>\n",
       "      <td>0.500000</td>\n",
       "    </tr>\n",
       "    <tr>\n",
       "      <th>0</th>\n",
       "      <td>0</td>\n",
       "      <td>0.343658</td>\n",
       "    </tr>\n",
       "    <tr>\n",
       "      <th>5</th>\n",
       "      <td>5</td>\n",
       "      <td>0.200000</td>\n",
       "    </tr>\n",
       "    <tr>\n",
       "      <th>4</th>\n",
       "      <td>4</td>\n",
       "      <td>0.000000</td>\n",
       "    </tr>\n",
       "    <tr>\n",
       "      <th>6</th>\n",
       "      <td>6</td>\n",
       "      <td>0.000000</td>\n",
       "    </tr>\n",
       "  </tbody>\n",
       "</table>\n",
       "</div>"
      ],
      "text/plain": [
       "   Parch  Survived\n",
       "3      3  0.600000\n",
       "1      1  0.550847\n",
       "2      2  0.500000\n",
       "0      0  0.343658\n",
       "5      5  0.200000\n",
       "4      4  0.000000\n",
       "6      6  0.000000"
      ]
     },
     "execution_count": 10,
     "metadata": {},
     "output_type": "execute_result"
    }
   ],
   "source": [
    "# test correlation betwween parent/children and survival\n",
    "\n",
    "(train_df[['Parch','Survived']]\n",
    "    .groupby(['Parch'], as_index=False)\n",
    "    .mean()\n",
    "    .sort_values(by=['Survived'], ascending = False)\n",
    ")"
   ]
  },
  {
   "cell_type": "markdown",
   "id": "ad3ef67b-9268-4f4d-9bd5-98e37577e05b",
   "metadata": {},
   "source": [
    "**Result**"
   ]
  },
  {
   "cell_type": "markdown",
   "id": "05f23ebb-19f7-491f-babd-823a6606335c",
   "metadata": {},
   "source": [
    "Zero correlation for certain features. To extract individual features."
   ]
  },
  {
   "cell_type": "markdown",
   "id": "0b4d9361-0dba-4e70-a61a-cffd4611cc06",
   "metadata": {},
   "source": [
    "## **Analysis through Visualisation**"
   ]
  },
  {
   "cell_type": "markdown",
   "id": "a8119d72-90d4-4674-bbf7-043f915afdad",
   "metadata": {},
   "source": [
    "Access the correlation between numerical features and target variable (survived)"
   ]
  },
  {
   "cell_type": "markdown",
   "id": "1cf1d9a8-1025-4136-a867-66caa653fc6d",
   "metadata": {},
   "source": [
    "#### **Age & Survival:**"
   ]
  },
  {
   "cell_type": "code",
   "execution_count": 11,
   "id": "3086ff2d-266a-46b2-83a6-8dfa19abf727",
   "metadata": {},
   "outputs": [
    {
     "data": {
      "text/plain": [
       "<seaborn.axisgrid.FacetGrid at 0x21fb0209630>"
      ]
     },
     "execution_count": 11,
     "metadata": {},
     "output_type": "execute_result"
    },
    {
     "data": {
      "image/png": "[encoded data removed]",
      "text/plain": [
       "<Figure size 600x300 with 2 Axes>"
      ]
     },
     "metadata": {},
     "output_type": "display_data"
    }
   ],
   "source": [
    "# analyse if there is a correlation between survival rate and age \n",
    "\n",
    "# splits it into multicharts \n",
    "g = sns.FacetGrid(train_df, col = 'Survived')\n",
    "# plot against age\n",
    "g.map(plt.hist, 'Age', bins=20)"
   ]
  },
  {
   "cell_type": "markdown",
   "id": "6818961b-c7b8-4435-8df5-ee8e6be97ab4",
   "metadata": {},
   "source": [
    "**Observation**"
   ]
  },
  {
   "cell_type": "markdown",
   "id": "606c9959-d286-40a1-9567-cf6636de4663",
   "metadata": {},
   "source": [
    "* Eldest passenger survived\n",
    "* Many passengers were in the 20-35 age range\n",
    "* Infants had a high survival rate\n",
    "* Large number of 20-30 year olds did not survive."
   ]
  },
  {
   "cell_type": "markdown",
   "id": "af20b97e-d7ce-49db-8cfc-4492f4f4a9b4",
   "metadata": {},
   "source": [
    "**Decision**"
   ]
  },
  {
   "cell_type": "markdown",
   "id": "7b2cbb93-9fc7-4a2d-9a28-1ed1e95d459e",
   "metadata": {},
   "source": [
    "* Age to be included in model training\n",
    "* To fill in missing values for age\n",
    "* Consider creating age band groups"
   ]
  },
  {
   "cell_type": "markdown",
   "id": "0d762f02-069c-422d-95bf-7155786d8db2",
   "metadata": {},
   "source": [
    "#### **Pclass & Survival**"
   ]
  },
  {
   "cell_type": "code",
   "execution_count": 12,
   "id": "788a4e9a-610a-452c-a42c-856842f2e539",
   "metadata": {},
   "outputs": [
    {
     "data": {
      "text/plain": [
       "<seaborn.axisgrid.FacetGrid at 0x21fd37b3550>"
      ]
     },
     "execution_count": 12,
     "metadata": {},
     "output_type": "execute_result"
    },
    {
     "data": {
      "image/png": "[encoded data removed]",
      "text/plain": [
       "<Figure size 600x900 with 6 Axes>"
      ]
     },
     "metadata": {},
     "output_type": "display_data"
    }
   ],
   "source": [
    "#determine if there is a correlation between each of the Pclass and survival rates\n",
    "\n",
    "grid = sns.FacetGrid(train_df,col = 'Survived',  row = 'Pclass')\n",
    "grid.map(plt.hist, 'Age', bins=20)"
   ]
  },
  {
   "cell_type": "markdown",
   "id": "3491d815-e1ee-435e-bbc6-8a6fea371309",
   "metadata": {},
   "source": [
    "**Observation**"
   ]
  },
  {
   "cell_type": "markdown",
   "id": "f00b0ba4-468e-4aac-9ccf-2110a95e260b",
   "metadata": {},
   "source": [
    "* Pclass hierachy matters, higher survival rates in 1st class than in 3rd class\n",
    "* Age is well distributed in each class\n",
    "* 3rd class has a high number of young-middle age people"
   ]
  },
  {
   "cell_type": "markdown",
   "id": "b1c241ce-8572-426e-b0eb-84e8b7198201",
   "metadata": {},
   "source": [
    "**Decision**"
   ]
  },
  {
   "cell_type": "markdown",
   "id": "73c99f35-5d6d-4ecf-8066-48593594852c",
   "metadata": {},
   "source": [
    "* Pclass to be included in model training. "
   ]
  },
  {
   "cell_type": "markdown",
   "id": "29d6df9f-d01d-4c9f-a0b9-1f45e1071330",
   "metadata": {},
   "source": [
    "#### **Embarked, Pclass, Sex to Survived**"
   ]
  },
  {
   "cell_type": "code",
   "execution_count": 13,
   "id": "df23dfb5-7590-4fec-89e9-22c4def6db1c",
   "metadata": {},
   "outputs": [
    {
     "name": "stderr",
     "output_type": "stream",
     "text": [
      "c:\\Users\\colin\\AppData\\Local\\Programs\\Python\\Python310\\lib\\site-packages\\seaborn\\axisgrid.py:718: UserWarning: Using the pointplot function without specifying `order` is likely to produce an incorrect plot.\n",
      "  warnings.warn(warning)\n",
      "c:\\Users\\colin\\AppData\\Local\\Programs\\Python\\Python310\\lib\\site-packages\\seaborn\\axisgrid.py:723: UserWarning: Using the pointplot function without specifying `hue_order` is likely to produce an incorrect plot.\n",
      "  warnings.warn(warning)\n",
      "c:\\Users\\colin\\AppData\\Local\\Programs\\Python\\Python310\\lib\\site-packages\\seaborn\\axisgrid.py:854: FutureWarning: \n",
      "\n",
      "Setting a gradient palette using color= is deprecated and will be removed in v0.14.0. Set `palette='dark:#1f77b4'` for the same effect.\n",
      "\n",
      "  func(*plot_args, **plot_kwargs)\n",
      "c:\\Users\\colin\\AppData\\Local\\Programs\\Python\\Python310\\lib\\site-packages\\seaborn\\axisgrid.py:854: FutureWarning: \n",
      "\n",
      "Setting a gradient palette using color= is deprecated and will be removed in v0.14.0. Set `palette='dark:#1f77b4'` for the same effect.\n",
      "\n",
      "  func(*plot_args, **plot_kwargs)\n",
      "c:\\Users\\colin\\AppData\\Local\\Programs\\Python\\Python310\\lib\\site-packages\\seaborn\\axisgrid.py:854: FutureWarning: \n",
      "\n",
      "Setting a gradient palette using color= is deprecated and will be removed in v0.14.0. Set `palette='dark:#1f77b4'` for the same effect.\n",
      "\n",
      "  func(*plot_args, **plot_kwargs)\n"
     ]
    },
    {
     "data": {
      "text/plain": [
       "<seaborn.axisgrid.FacetGrid at 0x21fd5d56980>"
      ]
     },
     "execution_count": 13,
     "metadata": {},
     "output_type": "execute_result"
    },
    {
     "data": {
      "image/png": "[encoded data removed]",
      "text/plain": [
       "<Figure size 450x660 with 3 Axes>"
      ]
     },
     "metadata": {},
     "output_type": "display_data"
    }
   ],
   "source": [
    "grid = sns.FacetGrid(train_df, row='Embarked', height=2.2, aspect=1.6)\n",
    "grid.map(sns.pointplot, 'Pclass', 'Survived', 'Sex',)\n",
    "grid.add_legend()"
   ]
  },
  {
   "cell_type": "code",
   "execution_count": 14,
   "id": "e3820837-0c49-45b2-8508-96f3d0c7e44b",
   "metadata": {},
   "outputs": [
    {
     "data": {
      "text/html": [
       "<div>\n",
       "<style scoped>\n",
       "    .dataframe tbody tr th:only-of-type {\n",
       "        vertical-align: middle;\n",
       "    }\n",
       "\n",
       "    .dataframe tbody tr th {\n",
       "        vertical-align: top;\n",
       "    }\n",
       "\n",
       "    .dataframe thead th {\n",
       "        text-align: right;\n",
       "    }\n",
       "</style>\n",
       "<table border=\"1\" class=\"dataframe\">\n",
       "  <thead>\n",
       "    <tr style=\"text-align: right;\">\n",
       "      <th></th>\n",
       "      <th>Embarked</th>\n",
       "      <th>Survived</th>\n",
       "    </tr>\n",
       "  </thead>\n",
       "  <tbody>\n",
       "    <tr>\n",
       "      <th>0</th>\n",
       "      <td>C</td>\n",
       "      <td>0.553571</td>\n",
       "    </tr>\n",
       "    <tr>\n",
       "      <th>1</th>\n",
       "      <td>Q</td>\n",
       "      <td>0.389610</td>\n",
       "    </tr>\n",
       "    <tr>\n",
       "      <th>2</th>\n",
       "      <td>S</td>\n",
       "      <td>0.336957</td>\n",
       "    </tr>\n",
       "  </tbody>\n",
       "</table>\n",
       "</div>"
      ],
      "text/plain": [
       "  Embarked  Survived\n",
       "0        C  0.553571\n",
       "1        Q  0.389610\n",
       "2        S  0.336957"
      ]
     },
     "execution_count": 14,
     "metadata": {},
     "output_type": "execute_result"
    }
   ],
   "source": [
    "# test correlation between embarked and survival\n",
    "\n",
    "(train_df[['Embarked','Survived']]\n",
    "    .groupby(['Embarked'], as_index=False)\n",
    "    .mean()\n",
    "    .sort_values(by='Survived', ascending = False)\n",
    ")"
   ]
  },
  {
   "cell_type": "markdown",
   "id": "4b091ccc-7d5f-41a0-9f6d-7dbc0c702a8f",
   "metadata": {},
   "source": [
    "**Observations**"
   ]
  },
  {
   "cell_type": "markdown",
   "id": "2fd4064b-fe6a-41ab-ac68-336bd2b83075",
   "metadata": {},
   "source": [
    "* more women survived\n",
    "* port of embarkation suggest a correlation between survival rates"
   ]
  },
  {
   "cell_type": "markdown",
   "id": "bb83649c-e1de-4df2-a338-3260e74f616a",
   "metadata": {},
   "source": [
    "**Results**"
   ]
  },
  {
   "cell_type": "markdown",
   "id": "e12cf82a-0851-48c5-be34-055899c6f23a",
   "metadata": {},
   "source": [
    "* add sex to model training\n",
    "* complete and add embarkation to model training"
   ]
  },
  {
   "cell_type": "markdown",
   "id": "c4ad42cc-619d-4b45-98b3-4d6c814a3010",
   "metadata": {},
   "source": [
    "#### **Fare, Embarked, Sex and Survived**"
   ]
  },
  {
   "cell_type": "code",
   "execution_count": 15,
   "id": "4d6c8bcf-8bda-40cd-adfe-9027a6f43769",
   "metadata": {},
   "outputs": [
    {
     "data": {
      "text/plain": [
       "<seaborn.axisgrid.FacetGrid at 0x21fd5d57580>"
      ]
     },
     "execution_count": 15,
     "metadata": {},
     "output_type": "execute_result"
    },
    {
     "data": {
      "image/png": "[encoded data removed]",
      "text/plain": [
       "<Figure size 611.111x900 with 6 Axes>"
      ]
     },
     "metadata": {},
     "output_type": "display_data"
    }
   ],
   "source": [
    "# test correlations between fare, embarked, sex and survived\n",
    "\n",
    "grid = sns.FacetGrid(train_df, col='Survived', row='Embarked')\n",
    "grid.map(sns.barplot, 'Sex', 'Fare', order=['male', 'female'])\n",
    "grid.add_legend()"
   ]
  },
  {
   "cell_type": "markdown",
   "id": "97fceb20-76b0-4b38-97d8-0a21716b3230",
   "metadata": {},
   "source": [
    "**Observation**"
   ]
  },
  {
   "cell_type": "markdown",
   "id": "faff935f-d3e1-476a-a73d-eb23f41880bb",
   "metadata": {},
   "source": [
    "* Those who paid higher fare had higher survival rates\n",
    "* Port of embarkation again correlates with survival rates"
   ]
  },
  {
   "cell_type": "markdown",
   "id": "a068355a-94b9-4d2d-a6c6-e97a72621ade",
   "metadata": {},
   "source": [
    "**Decision**"
   ]
  },
  {
   "cell_type": "markdown",
   "id": "3b727593-c533-4308-ae27-5c25096f5509",
   "metadata": {},
   "source": [
    "* Consider banding fare feature"
   ]
  },
  {
   "cell_type": "markdown",
   "id": "d8f2c5c2-032b-48fd-88e5-e3d3d1d6e42f",
   "metadata": {},
   "source": [
    "## **Data Pre-Processing Table - Update 2**"
   ]
  },
  {
   "cell_type": "markdown",
   "id": "2b049f5b-f3ce-4e44-85ef-bed46bb90899",
   "metadata": {},
   "source": [
    "| Feature | Status | Action | Reason |\n",
    "|----|-----|-----|----|\n",
    "|Survived|-|-|Target Variable|\n",
    "|PassengerId|-|-|Keep as part of submission requirements|\n",
    "|----|-----|-----|----|\n",
    "|SibSp|In Progress|create family member feature|Correlation for some values|\n",
    "|Parch|In Progress|create family member feature|Correlation for some values|\n",
    "|Name|In Progress|Create New Feature, drop name|Extract title|\n",
    "|Fare|In Progress|Create New banding feature|Higher paying fares have higher survival rates|\n",
    "|Age|In Progress|Fill missing values, create age band|Might have correlation to survival|\n",
    "|Embarked|In Progress|Fill missing values|Proven correlation to survival rates|\n",
    "|----|-----|-----|----|\n",
    "|Pclass|Completed|Add to model training|Proven correlation to survival rates|\n",
    "|Sex|Completed|Add to model training|Proven correlation to survival rates|\n",
    "|----|-----|-----|----|\n",
    "|Ticket|Dropped|-|High ratio of duplicate tickets (22%)|\n",
    "|Cabin|Dropped|-|Too many null values (77% missing or null)|\n"
   ]
  },
  {
   "cell_type": "markdown",
   "id": "cc998fd3-ab59-4a76-98a4-51cf4820de7a",
   "metadata": {},
   "source": [
    "#### **Drop features**"
   ]
  },
  {
   "cell_type": "code",
   "execution_count": 16,
   "id": "56fc9f4f-e9aa-4130-921d-0e1340b0d8e8",
   "metadata": {},
   "outputs": [
    {
     "name": "stdout",
     "output_type": "stream",
     "text": [
      "Index(['PassengerId', 'Survived', 'Pclass', 'Name', 'Sex', 'Age', 'SibSp',\n",
      "       'Parch', 'Ticket', 'Fare', 'Cabin', 'Embarked'],\n",
      "      dtype='object')\n",
      "Index(['PassengerId', 'Pclass', 'Name', 'Sex', 'Age', 'SibSp', 'Parch',\n",
      "       'Ticket', 'Fare', 'Cabin', 'Embarked'],\n",
      "      dtype='object')\n"
     ]
    }
   ],
   "source": [
    "#Drop ticket and cabin columns\n",
    "\n",
    "train_df.drop(['Ticket','Cabin'],axis=1)\n",
    "test_df.drop(['Ticket','Cabin'],axis=1)\n",
    "combine = [train_df,test_df]\n",
    "\n",
    "print(train_df.columns)\n",
    "print(test_df.columns)"
   ]
  },
  {
   "cell_type": "markdown",
   "id": "4bc61f63-602d-4696-987f-e5359f90cd71",
   "metadata": {},
   "source": [
    "#### **Extract title and test correlation**"
   ]
  },
  {
   "cell_type": "markdown",
   "id": "0366c8f7-7385-4fdb-90b6-8349ea57b076",
   "metadata": {},
   "source": [
    "Test if title has a correlation with survival rates"
   ]
  },
  {
   "cell_type": "markdown",
   "id": "75a41b81-f574-4ec7-aec3-53239b64b90b",
   "metadata": {},
   "source": [
    "**Extract titles and count by sex**"
   ]
  },
  {
   "cell_type": "code",
   "execution_count": 17,
   "id": "b544e463-a39f-4d4f-9939-fbf94c210dbe",
   "metadata": {},
   "outputs": [
    {
     "data": {
      "text/html": [
       "<div>\n",
       "<style scoped>\n",
       "    .dataframe tbody tr th:only-of-type {\n",
       "        vertical-align: middle;\n",
       "    }\n",
       "\n",
       "    .dataframe tbody tr th {\n",
       "        vertical-align: top;\n",
       "    }\n",
       "\n",
       "    .dataframe thead th {\n",
       "        text-align: right;\n",
       "    }\n",
       "</style>\n",
       "<table border=\"1\" class=\"dataframe\">\n",
       "  <thead>\n",
       "    <tr style=\"text-align: right;\">\n",
       "      <th>Sex</th>\n",
       "      <th>female</th>\n",
       "      <th>male</th>\n",
       "    </tr>\n",
       "    <tr>\n",
       "      <th>Title</th>\n",
       "      <th></th>\n",
       "      <th></th>\n",
       "    </tr>\n",
       "  </thead>\n",
       "  <tbody>\n",
       "    <tr>\n",
       "      <th>Capt</th>\n",
       "      <td>0</td>\n",
       "      <td>1</td>\n",
       "    </tr>\n",
       "    <tr>\n",
       "      <th>Col</th>\n",
       "      <td>0</td>\n",
       "      <td>2</td>\n",
       "    </tr>\n",
       "    <tr>\n",
       "      <th>Countess</th>\n",
       "      <td>1</td>\n",
       "      <td>0</td>\n",
       "    </tr>\n",
       "    <tr>\n",
       "      <th>Don</th>\n",
       "      <td>0</td>\n",
       "      <td>1</td>\n",
       "    </tr>\n",
       "    <tr>\n",
       "      <th>Dr</th>\n",
       "      <td>1</td>\n",
       "      <td>6</td>\n",
       "    </tr>\n",
       "    <tr>\n",
       "      <th>Jonkheer</th>\n",
       "      <td>0</td>\n",
       "      <td>1</td>\n",
       "    </tr>\n",
       "    <tr>\n",
       "      <th>Lady</th>\n",
       "      <td>1</td>\n",
       "      <td>0</td>\n",
       "    </tr>\n",
       "    <tr>\n",
       "      <th>Major</th>\n",
       "      <td>0</td>\n",
       "      <td>2</td>\n",
       "    </tr>\n",
       "    <tr>\n",
       "      <th>Master</th>\n",
       "      <td>0</td>\n",
       "      <td>40</td>\n",
       "    </tr>\n",
       "    <tr>\n",
       "      <th>Miss</th>\n",
       "      <td>182</td>\n",
       "      <td>0</td>\n",
       "    </tr>\n",
       "    <tr>\n",
       "      <th>Mlle</th>\n",
       "      <td>2</td>\n",
       "      <td>0</td>\n",
       "    </tr>\n",
       "    <tr>\n",
       "      <th>Mme</th>\n",
       "      <td>1</td>\n",
       "      <td>0</td>\n",
       "    </tr>\n",
       "    <tr>\n",
       "      <th>Mr</th>\n",
       "      <td>0</td>\n",
       "      <td>517</td>\n",
       "    </tr>\n",
       "    <tr>\n",
       "      <th>Mrs</th>\n",
       "      <td>125</td>\n",
       "      <td>0</td>\n",
       "    </tr>\n",
       "    <tr>\n",
       "      <th>Ms</th>\n",
       "      <td>1</td>\n",
       "      <td>0</td>\n",
       "    </tr>\n",
       "    <tr>\n",
       "      <th>Rev</th>\n",
       "      <td>0</td>\n",
       "      <td>6</td>\n",
       "    </tr>\n",
       "    <tr>\n",
       "      <th>Sir</th>\n",
       "      <td>0</td>\n",
       "      <td>1</td>\n",
       "    </tr>\n",
       "  </tbody>\n",
       "</table>\n",
       "</div>"
      ],
      "text/plain": [
       "Sex       female  male\n",
       "Title                 \n",
       "Capt           0     1\n",
       "Col            0     2\n",
       "Countess       1     0\n",
       "Don            0     1\n",
       "Dr             1     6\n",
       "Jonkheer       0     1\n",
       "Lady           1     0\n",
       "Major          0     2\n",
       "Master         0    40\n",
       "Miss         182     0\n",
       "Mlle           2     0\n",
       "Mme            1     0\n",
       "Mr             0   517\n",
       "Mrs          125     0\n",
       "Ms             1     0\n",
       "Rev            0     6\n",
       "Sir            0     1"
      ]
     },
     "execution_count": 17,
     "metadata": {},
     "output_type": "execute_result"
    }
   ],
   "source": [
    "# extract titles\n",
    "for dataset in combine:\n",
    "    dataset['Title'] = dataset.Name.str.extract(' ([A-Za-z]+)\\.', expand=False)\n",
    "\n",
    "# creates crosstabulation table\n",
    "pd.crosstab(train_df['Title'],train_df['Sex'])"
   ]
  },
  {
   "cell_type": "markdown",
   "id": "94bc8db2-32cd-4bfa-ae28-c55159080ff1",
   "metadata": {},
   "source": [
    "**Simplify number of categories**"
   ]
  },
  {
   "cell_type": "code",
   "execution_count": 18,
   "id": "013e2739-cba5-4327-a5da-a15e36677b12",
   "metadata": {},
   "outputs": [],
   "source": [
    "# simplify categories with replacement\n",
    "\n",
    "for dataset in combine:\n",
    "    dataset['Title'] = dataset['Title'].replace([\n",
    "        'Capt',\n",
    "        'Col',\n",
    "        'Countess',\n",
    "        'Don',\n",
    "        'Dr',\n",
    "        'Jonkheer',\n",
    "        'Lady',\n",
    "        'Major',\n",
    "        'Rev',\n",
    "        'Sir',\n",
    "    ],\n",
    "        'Rare')\n",
    "    dataset['Title'] = dataset['Title'].replace('Mlle','Miss')\n",
    "    dataset['Title'] = dataset['Title'].replace('Mme','Mrs')\n",
    "    dataset['Title'] = dataset['Title'].replace('Ms','Miss')"
   ]
  },
  {
   "cell_type": "markdown",
   "id": "71e278d3-2f06-489b-b0f1-dbc83b86a2b1",
   "metadata": {},
   "source": [
    "**Analyse Titles to Survival Rate**"
   ]
  },
  {
   "cell_type": "code",
   "execution_count": 19,
   "id": "c5463c1f-fa04-4a7a-9efc-7552482971bb",
   "metadata": {},
   "outputs": [
    {
     "data": {
      "text/html": [
       "<div>\n",
       "<style scoped>\n",
       "    .dataframe tbody tr th:only-of-type {\n",
       "        vertical-align: middle;\n",
       "    }\n",
       "\n",
       "    .dataframe tbody tr th {\n",
       "        vertical-align: top;\n",
       "    }\n",
       "\n",
       "    .dataframe thead th {\n",
       "        text-align: right;\n",
       "    }\n",
       "</style>\n",
       "<table border=\"1\" class=\"dataframe\">\n",
       "  <thead>\n",
       "    <tr style=\"text-align: right;\">\n",
       "      <th></th>\n",
       "      <th>Title</th>\n",
       "      <th>Survived</th>\n",
       "    </tr>\n",
       "  </thead>\n",
       "  <tbody>\n",
       "    <tr>\n",
       "      <th>3</th>\n",
       "      <td>Mrs</td>\n",
       "      <td>0.793651</td>\n",
       "    </tr>\n",
       "    <tr>\n",
       "      <th>1</th>\n",
       "      <td>Miss</td>\n",
       "      <td>0.702703</td>\n",
       "    </tr>\n",
       "    <tr>\n",
       "      <th>0</th>\n",
       "      <td>Master</td>\n",
       "      <td>0.575000</td>\n",
       "    </tr>\n",
       "    <tr>\n",
       "      <th>4</th>\n",
       "      <td>Rare</td>\n",
       "      <td>0.347826</td>\n",
       "    </tr>\n",
       "    <tr>\n",
       "      <th>2</th>\n",
       "      <td>Mr</td>\n",
       "      <td>0.156673</td>\n",
       "    </tr>\n",
       "  </tbody>\n",
       "</table>\n",
       "</div>"
      ],
      "text/plain": [
       "    Title  Survived\n",
       "3     Mrs  0.793651\n",
       "1    Miss  0.702703\n",
       "0  Master  0.575000\n",
       "4    Rare  0.347826\n",
       "2      Mr  0.156673"
      ]
     },
     "execution_count": 19,
     "metadata": {},
     "output_type": "execute_result"
    }
   ],
   "source": [
    "# print table\n",
    "\n",
    "train_df[['Title','Survived']].groupby(['Title'],as_index=False).mean().sort_values(by=['Survived'], ascending=False)"
   ]
  },
  {
   "cell_type": "markdown",
   "id": "672d9555-57d2-4985-87c7-7e1110725e38",
   "metadata": {},
   "source": [
    "**Observation**"
   ]
  },
  {
   "cell_type": "markdown",
   "id": "dd5fc3b6-a31b-4600-8e5e-e284db2eeb4d",
   "metadata": {},
   "source": [
    "* Supports hypothesis that women and children have higher survival rates"
   ]
  },
  {
   "cell_type": "markdown",
   "id": "c79501f7-60e2-4b9f-807e-4d30641d86d1",
   "metadata": {},
   "source": [
    "**Result**"
   ]
  },
  {
   "cell_type": "markdown",
   "id": "f213ff18-2cea-4a7a-adb8-efbd08938345",
   "metadata": {},
   "source": [
    "* Add title to model training"
   ]
  },
  {
   "cell_type": "markdown",
   "id": "b5fb7b05-0957-4c6c-ab6a-ed4dd48bb801",
   "metadata": {},
   "source": [
    "**Convert Titles to ordinal features (hierachical/categorical data)**"
   ]
  },
  {
   "cell_type": "code",
   "execution_count": 20,
   "id": "0118bf97-293a-4006-be05-76d26e7d9f63",
   "metadata": {},
   "outputs": [],
   "source": [
    "# create title mapping dictionary\n",
    "\n",
    "title_mapping = {'Mrs':1,'Miss':2,'Master':3,'Rare':4,'Mr':5}"
   ]
  },
  {
   "cell_type": "code",
   "execution_count": 21,
   "id": "0ad6bd6f-d883-4d30-88d8-b125a2a30df8",
   "metadata": {},
   "outputs": [],
   "source": [
    "# map titles to numbers and handle missing values\n",
    "\n",
    "for dataset in combine:\n",
    "    dataset[\"Title\"] = dataset['Title'].map(title_mapping)\n",
    "    # fill missing values with 0\n",
    "    # important as ml models cannot handle NaN values\n",
    "    dataset[\"Title\"] = dataset[\"Title\"].fillna(0)"
   ]
  },
  {
   "cell_type": "code",
   "execution_count": 22,
   "id": "d5f3c5ad-9cc4-4922-bcc1-56e441d422fa",
   "metadata": {},
   "outputs": [
    {
     "data": {
      "text/html": [
       "<div>\n",
       "<style scoped>\n",
       "    .dataframe tbody tr th:only-of-type {\n",
       "        vertical-align: middle;\n",
       "    }\n",
       "\n",
       "    .dataframe tbody tr th {\n",
       "        vertical-align: top;\n",
       "    }\n",
       "\n",
       "    .dataframe thead th {\n",
       "        text-align: right;\n",
       "    }\n",
       "</style>\n",
       "<table border=\"1\" class=\"dataframe\">\n",
       "  <thead>\n",
       "    <tr style=\"text-align: right;\">\n",
       "      <th></th>\n",
       "      <th>PassengerId</th>\n",
       "      <th>Survived</th>\n",
       "      <th>Pclass</th>\n",
       "      <th>Name</th>\n",
       "      <th>Sex</th>\n",
       "      <th>Age</th>\n",
       "      <th>SibSp</th>\n",
       "      <th>Parch</th>\n",
       "      <th>Ticket</th>\n",
       "      <th>Fare</th>\n",
       "      <th>Cabin</th>\n",
       "      <th>Embarked</th>\n",
       "      <th>Title</th>\n",
       "    </tr>\n",
       "  </thead>\n",
       "  <tbody>\n",
       "    <tr>\n",
       "      <th>0</th>\n",
       "      <td>1</td>\n",
       "      <td>0</td>\n",
       "      <td>3</td>\n",
       "      <td>Braund, Mr. Owen Harris</td>\n",
       "      <td>male</td>\n",
       "      <td>22.0</td>\n",
       "      <td>1</td>\n",
       "      <td>0</td>\n",
       "      <td>A/5 21171</td>\n",
       "      <td>7.2500</td>\n",
       "      <td>NaN</td>\n",
       "      <td>S</td>\n",
       "      <td>5</td>\n",
       "    </tr>\n",
       "    <tr>\n",
       "      <th>1</th>\n",
       "      <td>2</td>\n",
       "      <td>1</td>\n",
       "      <td>1</td>\n",
       "      <td>Cumings, Mrs. John Bradley (Florence Briggs Th...</td>\n",
       "      <td>female</td>\n",
       "      <td>38.0</td>\n",
       "      <td>1</td>\n",
       "      <td>0</td>\n",
       "      <td>PC 17599</td>\n",
       "      <td>71.2833</td>\n",
       "      <td>C85</td>\n",
       "      <td>C</td>\n",
       "      <td>1</td>\n",
       "    </tr>\n",
       "    <tr>\n",
       "      <th>2</th>\n",
       "      <td>3</td>\n",
       "      <td>1</td>\n",
       "      <td>3</td>\n",
       "      <td>Heikkinen, Miss. Laina</td>\n",
       "      <td>female</td>\n",
       "      <td>26.0</td>\n",
       "      <td>0</td>\n",
       "      <td>0</td>\n",
       "      <td>STON/O2. 3101282</td>\n",
       "      <td>7.9250</td>\n",
       "      <td>NaN</td>\n",
       "      <td>S</td>\n",
       "      <td>2</td>\n",
       "    </tr>\n",
       "    <tr>\n",
       "      <th>3</th>\n",
       "      <td>4</td>\n",
       "      <td>1</td>\n",
       "      <td>1</td>\n",
       "      <td>Futrelle, Mrs. Jacques Heath (Lily May Peel)</td>\n",
       "      <td>female</td>\n",
       "      <td>35.0</td>\n",
       "      <td>1</td>\n",
       "      <td>0</td>\n",
       "      <td>113803</td>\n",
       "      <td>53.1000</td>\n",
       "      <td>C123</td>\n",
       "      <td>S</td>\n",
       "      <td>1</td>\n",
       "    </tr>\n",
       "    <tr>\n",
       "      <th>4</th>\n",
       "      <td>5</td>\n",
       "      <td>0</td>\n",
       "      <td>3</td>\n",
       "      <td>Allen, Mr. William Henry</td>\n",
       "      <td>male</td>\n",
       "      <td>35.0</td>\n",
       "      <td>0</td>\n",
       "      <td>0</td>\n",
       "      <td>373450</td>\n",
       "      <td>8.0500</td>\n",
       "      <td>NaN</td>\n",
       "      <td>S</td>\n",
       "      <td>5</td>\n",
       "    </tr>\n",
       "  </tbody>\n",
       "</table>\n",
       "</div>"
      ],
      "text/plain": [
       "   PassengerId  Survived  Pclass  \\\n",
       "0            1         0       3   \n",
       "1            2         1       1   \n",
       "2            3         1       3   \n",
       "3            4         1       1   \n",
       "4            5         0       3   \n",
       "\n",
       "                                                Name     Sex   Age  SibSp  \\\n",
       "0                            Braund, Mr. Owen Harris    male  22.0      1   \n",
       "1  Cumings, Mrs. John Bradley (Florence Briggs Th...  female  38.0      1   \n",
       "2                             Heikkinen, Miss. Laina  female  26.0      0   \n",
       "3       Futrelle, Mrs. Jacques Heath (Lily May Peel)  female  35.0      1   \n",
       "4                           Allen, Mr. William Henry    male  35.0      0   \n",
       "\n",
       "   Parch            Ticket     Fare Cabin Embarked  Title  \n",
       "0      0         A/5 21171   7.2500   NaN        S      5  \n",
       "1      0          PC 17599  71.2833   C85        C      1  \n",
       "2      0  STON/O2. 3101282   7.9250   NaN        S      2  \n",
       "3      0            113803  53.1000  C123        S      1  \n",
       "4      0            373450   8.0500   NaN        S      5  "
      ]
     },
     "execution_count": 22,
     "metadata": {},
     "output_type": "execute_result"
    }
   ],
   "source": [
    "# check\n",
    "\n",
    "train_df.head()"
   ]
  },
  {
   "cell_type": "markdown",
   "id": "c3e3404f-ca06-4d98-8973-d5cb7c9e0e2f",
   "metadata": {},
   "source": [
    "**Drop name and passengerid feature**"
   ]
  },
  {
   "cell_type": "code",
   "execution_count": 23,
   "id": "27c0400a-bee9-4e4f-8284-65822d92814b",
   "metadata": {},
   "outputs": [],
   "source": [
    "# drop name and passengerid\n",
    "\n",
    "for df in [train_df,test_df]:\n",
    "    df = df.drop(axis=1, columns = ['Name'])\n",
    "    \n",
    "combine = [train_df, test_df]\n"
   ]
  },
  {
   "cell_type": "code",
   "execution_count": 24,
   "id": "9043b7d6-9c01-4321-b34e-5ab0588e3afb",
   "metadata": {},
   "outputs": [
    {
     "name": "stdout",
     "output_type": "stream",
     "text": [
      "   PassengerId  Survived  Pclass  \\\n",
      "0            1         0       3   \n",
      "1            2         1       1   \n",
      "2            3         1       3   \n",
      "3            4         1       1   \n",
      "4            5         0       3   \n",
      "\n",
      "                                                Name     Sex   Age  SibSp  \\\n",
      "0                            Braund, Mr. Owen Harris    male  22.0      1   \n",
      "1  Cumings, Mrs. John Bradley (Florence Briggs Th...  female  38.0      1   \n",
      "2                             Heikkinen, Miss. Laina  female  26.0      0   \n",
      "3       Futrelle, Mrs. Jacques Heath (Lily May Peel)  female  35.0      1   \n",
      "4                           Allen, Mr. William Henry    male  35.0      0   \n",
      "\n",
      "   Parch            Ticket     Fare Cabin Embarked  Title  \n",
      "0      0         A/5 21171   7.2500   NaN        S      5  \n",
      "1      0          PC 17599  71.2833   C85        C      1  \n",
      "2      0  STON/O2. 3101282   7.9250   NaN        S      2  \n",
      "3      0            113803  53.1000  C123        S      1  \n",
      "4      0            373450   8.0500   NaN        S      5  \n",
      "   PassengerId  Pclass                                          Name     Sex  \\\n",
      "0          892       3                              Kelly, Mr. James    male   \n",
      "1          893       3              Wilkes, Mrs. James (Ellen Needs)  female   \n",
      "2          894       2                     Myles, Mr. Thomas Francis    male   \n",
      "3          895       3                              Wirz, Mr. Albert    male   \n",
      "4          896       3  Hirvonen, Mrs. Alexander (Helga E Lindqvist)  female   \n",
      "\n",
      "    Age  SibSp  Parch   Ticket     Fare Cabin Embarked  Title  \n",
      "0  34.5      0      0   330911   7.8292   NaN        Q    5.0  \n",
      "1  47.0      1      0   363272   7.0000   NaN        S    1.0  \n",
      "2  62.0      0      0   240276   9.6875   NaN        Q    5.0  \n",
      "3  27.0      0      0   315154   8.6625   NaN        S    5.0  \n",
      "4  22.0      1      1  3101298  12.2875   NaN        S    1.0  \n",
      "(891, 13)\n",
      "(418, 12)\n"
     ]
    }
   ],
   "source": [
    "#check columns and feature numbers\n",
    "\n",
    "print(train_df.head())\n",
    "print(test_df.head())\n",
    "print(train_df.shape)\n",
    "print(test_df.shape)"
   ]
  },
  {
   "cell_type": "markdown",
   "id": "9b52fe71-b533-4229-a530-e62b048ba51d",
   "metadata": {},
   "source": [
    "#### **Convert Sex to numerical values**"
   ]
  },
  {
   "cell_type": "code",
   "execution_count": 25,
   "id": "daa4139b-ed3e-4cf3-aa0f-c4d5721c577d",
   "metadata": {},
   "outputs": [],
   "source": [
    "# maps and converts str in Sex to numerical binary \n",
    "\n",
    "for dataset in combine:\n",
    "    dataset['Sex'] = dataset['Sex'].map({'female':1,'male':0})\n",
    "    dataset['Sex'] = dataset['Sex'].fillna(0).astype(int)\n",
    "    #astype() converts data type of column to another type "
   ]
  },
  {
   "cell_type": "code",
   "execution_count": 26,
   "id": "673ac5b1-9e07-4ec1-90a8-a928b5f11cbd",
   "metadata": {},
   "outputs": [
    {
     "data": {
      "text/html": [
       "<div>\n",
       "<style scoped>\n",
       "    .dataframe tbody tr th:only-of-type {\n",
       "        vertical-align: middle;\n",
       "    }\n",
       "\n",
       "    .dataframe tbody tr th {\n",
       "        vertical-align: top;\n",
       "    }\n",
       "\n",
       "    .dataframe thead th {\n",
       "        text-align: right;\n",
       "    }\n",
       "</style>\n",
       "<table border=\"1\" class=\"dataframe\">\n",
       "  <thead>\n",
       "    <tr style=\"text-align: right;\">\n",
       "      <th></th>\n",
       "      <th>PassengerId</th>\n",
       "      <th>Survived</th>\n",
       "      <th>Pclass</th>\n",
       "      <th>Name</th>\n",
       "      <th>Sex</th>\n",
       "      <th>Age</th>\n",
       "      <th>SibSp</th>\n",
       "      <th>Parch</th>\n",
       "      <th>Ticket</th>\n",
       "      <th>Fare</th>\n",
       "      <th>Cabin</th>\n",
       "      <th>Embarked</th>\n",
       "      <th>Title</th>\n",
       "    </tr>\n",
       "  </thead>\n",
       "  <tbody>\n",
       "    <tr>\n",
       "      <th>0</th>\n",
       "      <td>1</td>\n",
       "      <td>0</td>\n",
       "      <td>3</td>\n",
       "      <td>Braund, Mr. Owen Harris</td>\n",
       "      <td>0</td>\n",
       "      <td>22.0</td>\n",
       "      <td>1</td>\n",
       "      <td>0</td>\n",
       "      <td>A/5 21171</td>\n",
       "      <td>7.2500</td>\n",
       "      <td>NaN</td>\n",
       "      <td>S</td>\n",
       "      <td>5</td>\n",
       "    </tr>\n",
       "    <tr>\n",
       "      <th>1</th>\n",
       "      <td>2</td>\n",
       "      <td>1</td>\n",
       "      <td>1</td>\n",
       "      <td>Cumings, Mrs. John Bradley (Florence Briggs Th...</td>\n",
       "      <td>1</td>\n",
       "      <td>38.0</td>\n",
       "      <td>1</td>\n",
       "      <td>0</td>\n",
       "      <td>PC 17599</td>\n",
       "      <td>71.2833</td>\n",
       "      <td>C85</td>\n",
       "      <td>C</td>\n",
       "      <td>1</td>\n",
       "    </tr>\n",
       "    <tr>\n",
       "      <th>2</th>\n",
       "      <td>3</td>\n",
       "      <td>1</td>\n",
       "      <td>3</td>\n",
       "      <td>Heikkinen, Miss. Laina</td>\n",
       "      <td>1</td>\n",
       "      <td>26.0</td>\n",
       "      <td>0</td>\n",
       "      <td>0</td>\n",
       "      <td>STON/O2. 3101282</td>\n",
       "      <td>7.9250</td>\n",
       "      <td>NaN</td>\n",
       "      <td>S</td>\n",
       "      <td>2</td>\n",
       "    </tr>\n",
       "    <tr>\n",
       "      <th>3</th>\n",
       "      <td>4</td>\n",
       "      <td>1</td>\n",
       "      <td>1</td>\n",
       "      <td>Futrelle, Mrs. Jacques Heath (Lily May Peel)</td>\n",
       "      <td>1</td>\n",
       "      <td>35.0</td>\n",
       "      <td>1</td>\n",
       "      <td>0</td>\n",
       "      <td>113803</td>\n",
       "      <td>53.1000</td>\n",
       "      <td>C123</td>\n",
       "      <td>S</td>\n",
       "      <td>1</td>\n",
       "    </tr>\n",
       "    <tr>\n",
       "      <th>4</th>\n",
       "      <td>5</td>\n",
       "      <td>0</td>\n",
       "      <td>3</td>\n",
       "      <td>Allen, Mr. William Henry</td>\n",
       "      <td>0</td>\n",
       "      <td>35.0</td>\n",
       "      <td>0</td>\n",
       "      <td>0</td>\n",
       "      <td>373450</td>\n",
       "      <td>8.0500</td>\n",
       "      <td>NaN</td>\n",
       "      <td>S</td>\n",
       "      <td>5</td>\n",
       "    </tr>\n",
       "  </tbody>\n",
       "</table>\n",
       "</div>"
      ],
      "text/plain": [
       "   PassengerId  Survived  Pclass  \\\n",
       "0            1         0       3   \n",
       "1            2         1       1   \n",
       "2            3         1       3   \n",
       "3            4         1       1   \n",
       "4            5         0       3   \n",
       "\n",
       "                                                Name  Sex   Age  SibSp  Parch  \\\n",
       "0                            Braund, Mr. Owen Harris    0  22.0      1      0   \n",
       "1  Cumings, Mrs. John Bradley (Florence Briggs Th...    1  38.0      1      0   \n",
       "2                             Heikkinen, Miss. Laina    1  26.0      0      0   \n",
       "3       Futrelle, Mrs. Jacques Heath (Lily May Peel)    1  35.0      1      0   \n",
       "4                           Allen, Mr. William Henry    0  35.0      0      0   \n",
       "\n",
       "             Ticket     Fare Cabin Embarked  Title  \n",
       "0         A/5 21171   7.2500   NaN        S      5  \n",
       "1          PC 17599  71.2833   C85        C      1  \n",
       "2  STON/O2. 3101282   7.9250   NaN        S      2  \n",
       "3            113803  53.1000  C123        S      1  \n",
       "4            373450   8.0500   NaN        S      5  "
      ]
     },
     "execution_count": 26,
     "metadata": {},
     "output_type": "execute_result"
    }
   ],
   "source": [
    "# check\n",
    "\n",
    "train_df.head()"
   ]
  },
  {
   "cell_type": "markdown",
   "id": "bf3d8d09-c4b8-40ee-abe6-9f7967d26731",
   "metadata": {},
   "source": [
    "#### **Estimate and fill missing values for  Age feature**"
   ]
  },
  {
   "cell_type": "markdown",
   "id": "eb7f12c3-38f5-4e37-95ec-d2414e235ae6",
   "metadata": {},
   "source": [
    "**3 methods to complete and fill missing values a numerical continous feature**"
   ]
  },
  {
   "cell_type": "markdown",
   "id": "a6e68c5d-7dee-46d1-bc06-e20cebe320f9",
   "metadata": {},
   "source": [
    "1. **Generate random numbers**<br>\n",
    "Strategy: fill in missing values with random numbers between mean and sd <br>\n",
    "Pros: quick to implement<br>\n",
    "Cons: introduce randomness, which adds noise and may affect the accuracy of the trained model. <br>\n",
    "<br>\n",
    "2. **Using Correltaed Features**<br>\n",
    "Strategy: Use median values of age based on other correalted features like gender and pclass<br>\n",
    "Pros: More accurate guessing then random since its considers relationships with other features<br>\n",
    "Cons: Requires deep understanding of data and its correlations<br>\n",
    "<br>\n",
    "3. **Combine random and correlated features**<br>\n",
    "Strategy: generate random numbers within the range defined by each category<br>\n",
    "Pros: adds some variability and can be more representative of the natural variance within each subgroup<br>\n",
    "Cons: introduces noise, which may affect the model"
   ]
  },
  {
   "cell_type": "markdown",
   "id": "ef04345c-17dc-415d-80b2-98299f8a2965",
   "metadata": {},
   "source": [
    "Method 2 chosen as it will be more accurate for the model."
   ]
  },
  {
   "cell_type": "code",
   "execution_count": 27,
   "id": "1778e469-2676-4558-809b-59d953695440",
   "metadata": {},
   "outputs": [
    {
     "data": {
      "text/plain": [
       "<seaborn.axisgrid.FacetGrid at 0x21fd3640850>"
      ]
     },
     "execution_count": 27,
     "metadata": {},
     "output_type": "execute_result"
    },
    {
     "data": {
      "image/png": "[encoded data removed]",
      "text/plain": [
       "<Figure size 600x900 with 6 Axes>"
      ]
     },
     "metadata": {},
     "output_type": "display_data"
    }
   ],
   "source": [
    "# plot histogram of how age varies across Pclass and Sex\n",
    "\n",
    "# subdivide pclass and sex into different subplots\n",
    "grid = sns.FacetGrid(train_df, row = 'Pclass', col = 'Sex')\n",
    "\n",
    "# map it out \n",
    "grid.map(plt.hist, 'Age', bins=20)"
   ]
  },
  {
   "cell_type": "markdown",
   "id": "a8f2f16d-da84-41ec-9030-157cc2069616",
   "metadata": {},
   "source": [
    "#### **Fill Null values in Age with Median values from correlated features**"
   ]
  },
  {
   "cell_type": "code",
   "execution_count": 28,
   "id": "7c26b0bd-5d9e-454f-b28b-a0fdba1c6d55",
   "metadata": {},
   "outputs": [
    {
     "name": "stdout",
     "output_type": "stream",
     "text": [
      "86\n",
      "0\n"
     ]
    }
   ],
   "source": [
    "# check how many age rows are null\n",
    "print(dataset['Age'].isnull().sum())\n",
    "\n",
    "# prepare empty array to contain guessed Age values based on pclass x gender combinations\n",
    "guess_ages = np.zeros((2,3))\n",
    "\n",
    "# iterate over sex(0,1) and pclass(1,2,3) to remove rows with NaN values\n",
    "\n",
    "for dataset in combine:\n",
    "    for i in range (0,2):\n",
    "        for j in range (0,3):\n",
    "            #select sex and pclass, then select age and unselect rows with missing (select only rows that have values) \n",
    "            guess_df = dataset[(dataset['Sex'] == i) & (dataset['Pclass'] == j+1)]['Age'].dropna()\n",
    "\n",
    "            #compute median age using the previously selected rows\n",
    "            guess_median = guess_df.median()\n",
    "\n",
    "            #standardise and convert to each median age to nearest .5 age\n",
    "            guess_ages[i,j] = int( guess_median/0.5 + 0.5 ) * 0.5\n",
    "\n",
    "    for i in range(0, 2):\n",
    "        for j in range(0, 3):\n",
    "            # look for age is null values and same as nested loop values and replace with median values\n",
    "            dataset.loc[ (dataset.Age.isnull()) & (dataset.Sex == i) & (dataset.Pclass == j+1),'Age'] = guess_ages[i,j]\n",
    "    \n",
    "    #converts to integer data type\n",
    "    dataset['Age'] = dataset['Age'].astype(int)\n",
    "    \n",
    "#display\n",
    "train_df.head() \n",
    "\n",
    "# check how many age rows are null\n",
    "print(dataset['Age'].isnull().sum())"
   ]
  },
  {
   "cell_type": "markdown",
   "id": "feef5981-f5d8-4d5b-8a6a-b559bda4361d",
   "metadata": {},
   "source": [
    "Empty age rows successfully filled."
   ]
  },
  {
   "cell_type": "markdown",
   "id": "7ee8ad5c-2817-44e6-9d73-5bbbc5bebe99",
   "metadata": {},
   "source": [
    "#### **Create AgeBand and check correlation against survived**"
   ]
  },
  {
   "cell_type": "code",
   "execution_count": 29,
   "id": "b204d43a-551b-4e22-a5af-4d2586caa47d",
   "metadata": {},
   "outputs": [
    {
     "name": "stderr",
     "output_type": "stream",
     "text": [
      "C:\\Users\\colin\\AppData\\Local\\Temp\\ipykernel_2092\\3170391688.py:5: FutureWarning: The default of observed=False is deprecated and will be changed to True in a future version of pandas. Pass observed=False to retain current behavior or observed=True to adopt the future default and silence this warning.\n",
      "  (train_df[['AgeBand','Survived']]\n"
     ]
    },
    {
     "data": {
      "text/html": [
       "<div>\n",
       "<style scoped>\n",
       "    .dataframe tbody tr th:only-of-type {\n",
       "        vertical-align: middle;\n",
       "    }\n",
       "\n",
       "    .dataframe tbody tr th {\n",
       "        vertical-align: top;\n",
       "    }\n",
       "\n",
       "    .dataframe thead th {\n",
       "        text-align: right;\n",
       "    }\n",
       "</style>\n",
       "<table border=\"1\" class=\"dataframe\">\n",
       "  <thead>\n",
       "    <tr style=\"text-align: right;\">\n",
       "      <th></th>\n",
       "      <th>AgeBand</th>\n",
       "      <th>Survived</th>\n",
       "    </tr>\n",
       "  </thead>\n",
       "  <tbody>\n",
       "    <tr>\n",
       "      <th>0</th>\n",
       "      <td>(-0.08, 16.0]</td>\n",
       "      <td>0.550000</td>\n",
       "    </tr>\n",
       "    <tr>\n",
       "      <th>3</th>\n",
       "      <td>(48.0, 64.0]</td>\n",
       "      <td>0.434783</td>\n",
       "    </tr>\n",
       "    <tr>\n",
       "      <th>2</th>\n",
       "      <td>(32.0, 48.0]</td>\n",
       "      <td>0.412037</td>\n",
       "    </tr>\n",
       "    <tr>\n",
       "      <th>1</th>\n",
       "      <td>(16.0, 32.0]</td>\n",
       "      <td>0.337374</td>\n",
       "    </tr>\n",
       "    <tr>\n",
       "      <th>4</th>\n",
       "      <td>(64.0, 80.0]</td>\n",
       "      <td>0.090909</td>\n",
       "    </tr>\n",
       "  </tbody>\n",
       "</table>\n",
       "</div>"
      ],
      "text/plain": [
       "         AgeBand  Survived\n",
       "0  (-0.08, 16.0]  0.550000\n",
       "3   (48.0, 64.0]  0.434783\n",
       "2   (32.0, 48.0]  0.412037\n",
       "1   (16.0, 32.0]  0.337374\n",
       "4   (64.0, 80.0]  0.090909"
      ]
     },
     "execution_count": 29,
     "metadata": {},
     "output_type": "execute_result"
    }
   ],
   "source": [
    "# create age bands\n",
    "train_df['AgeBand']=pd.cut(train_df['Age'],5)\n",
    "\n",
    "# test correlation between ageband and survival rate\n",
    "(train_df[['AgeBand','Survived']]\n",
    "    .groupby(['AgeBand'], as_index=False)\n",
    "    .mean()\n",
    "    .sort_values(by=['Survived'], ascending = False)\n",
    ")"
   ]
  },
  {
   "cell_type": "markdown",
   "id": "99847ef5-2717-4413-909a-d6193abdb154",
   "metadata": {},
   "source": [
    "**Replace Age with ordinals based on these age bands**"
   ]
  },
  {
   "cell_type": "code",
   "execution_count": 30,
   "id": "e00c4023-8da0-403c-a03c-b008cab5f791",
   "metadata": {},
   "outputs": [
    {
     "data": {
      "text/html": [
       "<div>\n",
       "<style scoped>\n",
       "    .dataframe tbody tr th:only-of-type {\n",
       "        vertical-align: middle;\n",
       "    }\n",
       "\n",
       "    .dataframe tbody tr th {\n",
       "        vertical-align: top;\n",
       "    }\n",
       "\n",
       "    .dataframe thead th {\n",
       "        text-align: right;\n",
       "    }\n",
       "</style>\n",
       "<table border=\"1\" class=\"dataframe\">\n",
       "  <thead>\n",
       "    <tr style=\"text-align: right;\">\n",
       "      <th></th>\n",
       "      <th>PassengerId</th>\n",
       "      <th>Survived</th>\n",
       "      <th>Pclass</th>\n",
       "      <th>Name</th>\n",
       "      <th>Sex</th>\n",
       "      <th>Age</th>\n",
       "      <th>SibSp</th>\n",
       "      <th>Parch</th>\n",
       "      <th>Ticket</th>\n",
       "      <th>Fare</th>\n",
       "      <th>Cabin</th>\n",
       "      <th>Embarked</th>\n",
       "      <th>Title</th>\n",
       "      <th>AgeBand</th>\n",
       "    </tr>\n",
       "  </thead>\n",
       "  <tbody>\n",
       "    <tr>\n",
       "      <th>0</th>\n",
       "      <td>1</td>\n",
       "      <td>0</td>\n",
       "      <td>3</td>\n",
       "      <td>Braund, Mr. Owen Harris</td>\n",
       "      <td>0</td>\n",
       "      <td>1</td>\n",
       "      <td>1</td>\n",
       "      <td>0</td>\n",
       "      <td>A/5 21171</td>\n",
       "      <td>7.2500</td>\n",
       "      <td>NaN</td>\n",
       "      <td>S</td>\n",
       "      <td>5</td>\n",
       "      <td>(16.0, 32.0]</td>\n",
       "    </tr>\n",
       "    <tr>\n",
       "      <th>1</th>\n",
       "      <td>2</td>\n",
       "      <td>1</td>\n",
       "      <td>1</td>\n",
       "      <td>Cumings, Mrs. John Bradley (Florence Briggs Th...</td>\n",
       "      <td>1</td>\n",
       "      <td>2</td>\n",
       "      <td>1</td>\n",
       "      <td>0</td>\n",
       "      <td>PC 17599</td>\n",
       "      <td>71.2833</td>\n",
       "      <td>C85</td>\n",
       "      <td>C</td>\n",
       "      <td>1</td>\n",
       "      <td>(32.0, 48.0]</td>\n",
       "    </tr>\n",
       "    <tr>\n",
       "      <th>2</th>\n",
       "      <td>3</td>\n",
       "      <td>1</td>\n",
       "      <td>3</td>\n",
       "      <td>Heikkinen, Miss. Laina</td>\n",
       "      <td>1</td>\n",
       "      <td>1</td>\n",
       "      <td>0</td>\n",
       "      <td>0</td>\n",
       "      <td>STON/O2. 3101282</td>\n",
       "      <td>7.9250</td>\n",
       "      <td>NaN</td>\n",
       "      <td>S</td>\n",
       "      <td>2</td>\n",
       "      <td>(16.0, 32.0]</td>\n",
       "    </tr>\n",
       "    <tr>\n",
       "      <th>3</th>\n",
       "      <td>4</td>\n",
       "      <td>1</td>\n",
       "      <td>1</td>\n",
       "      <td>Futrelle, Mrs. Jacques Heath (Lily May Peel)</td>\n",
       "      <td>1</td>\n",
       "      <td>2</td>\n",
       "      <td>1</td>\n",
       "      <td>0</td>\n",
       "      <td>113803</td>\n",
       "      <td>53.1000</td>\n",
       "      <td>C123</td>\n",
       "      <td>S</td>\n",
       "      <td>1</td>\n",
       "      <td>(32.0, 48.0]</td>\n",
       "    </tr>\n",
       "    <tr>\n",
       "      <th>4</th>\n",
       "      <td>5</td>\n",
       "      <td>0</td>\n",
       "      <td>3</td>\n",
       "      <td>Allen, Mr. William Henry</td>\n",
       "      <td>0</td>\n",
       "      <td>2</td>\n",
       "      <td>0</td>\n",
       "      <td>0</td>\n",
       "      <td>373450</td>\n",
       "      <td>8.0500</td>\n",
       "      <td>NaN</td>\n",
       "      <td>S</td>\n",
       "      <td>5</td>\n",
       "      <td>(32.0, 48.0]</td>\n",
       "    </tr>\n",
       "  </tbody>\n",
       "</table>\n",
       "</div>"
      ],
      "text/plain": [
       "   PassengerId  Survived  Pclass  \\\n",
       "0            1         0       3   \n",
       "1            2         1       1   \n",
       "2            3         1       3   \n",
       "3            4         1       1   \n",
       "4            5         0       3   \n",
       "\n",
       "                                                Name  Sex  Age  SibSp  Parch  \\\n",
       "0                            Braund, Mr. Owen Harris    0    1      1      0   \n",
       "1  Cumings, Mrs. John Bradley (Florence Briggs Th...    1    2      1      0   \n",
       "2                             Heikkinen, Miss. Laina    1    1      0      0   \n",
       "3       Futrelle, Mrs. Jacques Heath (Lily May Peel)    1    2      1      0   \n",
       "4                           Allen, Mr. William Henry    0    2      0      0   \n",
       "\n",
       "             Ticket     Fare Cabin Embarked  Title       AgeBand  \n",
       "0         A/5 21171   7.2500   NaN        S      5  (16.0, 32.0]  \n",
       "1          PC 17599  71.2833   C85        C      1  (32.0, 48.0]  \n",
       "2  STON/O2. 3101282   7.9250   NaN        S      2  (16.0, 32.0]  \n",
       "3            113803  53.1000  C123        S      1  (32.0, 48.0]  \n",
       "4            373450   8.0500   NaN        S      5  (32.0, 48.0]  "
      ]
     },
     "execution_count": 30,
     "metadata": {},
     "output_type": "execute_result"
    }
   ],
   "source": [
    "for dataset in combine:    \n",
    "    dataset.loc[ dataset['Age'] <= 16, 'Age'] = 0\n",
    "    dataset.loc[(dataset['Age'] > 16) & (dataset['Age'] <= 32), 'Age'] = 1\n",
    "    dataset.loc[(dataset['Age'] > 32) & (dataset['Age'] <= 48), 'Age'] = 2\n",
    "    dataset.loc[(dataset['Age'] > 48) & (dataset['Age'] <= 64), 'Age'] = 3\n",
    "    dataset.loc[ dataset['Age'] > 64, 'Age']\n",
    "train_df.head()"
   ]
  },
  {
   "cell_type": "markdown",
   "id": "30e10edb-5624-4688-8b57-ff29178dcca3",
   "metadata": {},
   "source": [
    "**Drop AgeBand feature from feature set**"
   ]
  },
  {
   "cell_type": "code",
   "execution_count": 31,
   "id": "0567daad-0e3b-4a4d-ba6e-54f7b00085c4",
   "metadata": {},
   "outputs": [
    {
     "data": {
      "text/html": [
       "<div>\n",
       "<style scoped>\n",
       "    .dataframe tbody tr th:only-of-type {\n",
       "        vertical-align: middle;\n",
       "    }\n",
       "\n",
       "    .dataframe tbody tr th {\n",
       "        vertical-align: top;\n",
       "    }\n",
       "\n",
       "    .dataframe thead th {\n",
       "        text-align: right;\n",
       "    }\n",
       "</style>\n",
       "<table border=\"1\" class=\"dataframe\">\n",
       "  <thead>\n",
       "    <tr style=\"text-align: right;\">\n",
       "      <th></th>\n",
       "      <th>PassengerId</th>\n",
       "      <th>Survived</th>\n",
       "      <th>Pclass</th>\n",
       "      <th>Name</th>\n",
       "      <th>Sex</th>\n",
       "      <th>Age</th>\n",
       "      <th>SibSp</th>\n",
       "      <th>Parch</th>\n",
       "      <th>Ticket</th>\n",
       "      <th>Fare</th>\n",
       "      <th>Cabin</th>\n",
       "      <th>Embarked</th>\n",
       "      <th>Title</th>\n",
       "    </tr>\n",
       "  </thead>\n",
       "  <tbody>\n",
       "    <tr>\n",
       "      <th>0</th>\n",
       "      <td>1</td>\n",
       "      <td>0</td>\n",
       "      <td>3</td>\n",
       "      <td>Braund, Mr. Owen Harris</td>\n",
       "      <td>0</td>\n",
       "      <td>1</td>\n",
       "      <td>1</td>\n",
       "      <td>0</td>\n",
       "      <td>A/5 21171</td>\n",
       "      <td>7.2500</td>\n",
       "      <td>NaN</td>\n",
       "      <td>S</td>\n",
       "      <td>5</td>\n",
       "    </tr>\n",
       "    <tr>\n",
       "      <th>1</th>\n",
       "      <td>2</td>\n",
       "      <td>1</td>\n",
       "      <td>1</td>\n",
       "      <td>Cumings, Mrs. John Bradley (Florence Briggs Th...</td>\n",
       "      <td>1</td>\n",
       "      <td>2</td>\n",
       "      <td>1</td>\n",
       "      <td>0</td>\n",
       "      <td>PC 17599</td>\n",
       "      <td>71.2833</td>\n",
       "      <td>C85</td>\n",
       "      <td>C</td>\n",
       "      <td>1</td>\n",
       "    </tr>\n",
       "    <tr>\n",
       "      <th>2</th>\n",
       "      <td>3</td>\n",
       "      <td>1</td>\n",
       "      <td>3</td>\n",
       "      <td>Heikkinen, Miss. Laina</td>\n",
       "      <td>1</td>\n",
       "      <td>1</td>\n",
       "      <td>0</td>\n",
       "      <td>0</td>\n",
       "      <td>STON/O2. 3101282</td>\n",
       "      <td>7.9250</td>\n",
       "      <td>NaN</td>\n",
       "      <td>S</td>\n",
       "      <td>2</td>\n",
       "    </tr>\n",
       "    <tr>\n",
       "      <th>3</th>\n",
       "      <td>4</td>\n",
       "      <td>1</td>\n",
       "      <td>1</td>\n",
       "      <td>Futrelle, Mrs. Jacques Heath (Lily May Peel)</td>\n",
       "      <td>1</td>\n",
       "      <td>2</td>\n",
       "      <td>1</td>\n",
       "      <td>0</td>\n",
       "      <td>113803</td>\n",
       "      <td>53.1000</td>\n",
       "      <td>C123</td>\n",
       "      <td>S</td>\n",
       "      <td>1</td>\n",
       "    </tr>\n",
       "    <tr>\n",
       "      <th>4</th>\n",
       "      <td>5</td>\n",
       "      <td>0</td>\n",
       "      <td>3</td>\n",
       "      <td>Allen, Mr. William Henry</td>\n",
       "      <td>0</td>\n",
       "      <td>2</td>\n",
       "      <td>0</td>\n",
       "      <td>0</td>\n",
       "      <td>373450</td>\n",
       "      <td>8.0500</td>\n",
       "      <td>NaN</td>\n",
       "      <td>S</td>\n",
       "      <td>5</td>\n",
       "    </tr>\n",
       "  </tbody>\n",
       "</table>\n",
       "</div>"
      ],
      "text/plain": [
       "   PassengerId  Survived  Pclass  \\\n",
       "0            1         0       3   \n",
       "1            2         1       1   \n",
       "2            3         1       3   \n",
       "3            4         1       1   \n",
       "4            5         0       3   \n",
       "\n",
       "                                                Name  Sex  Age  SibSp  Parch  \\\n",
       "0                            Braund, Mr. Owen Harris    0    1      1      0   \n",
       "1  Cumings, Mrs. John Bradley (Florence Briggs Th...    1    2      1      0   \n",
       "2                             Heikkinen, Miss. Laina    1    1      0      0   \n",
       "3       Futrelle, Mrs. Jacques Heath (Lily May Peel)    1    2      1      0   \n",
       "4                           Allen, Mr. William Henry    0    2      0      0   \n",
       "\n",
       "             Ticket     Fare Cabin Embarked  Title  \n",
       "0         A/5 21171   7.2500   NaN        S      5  \n",
       "1          PC 17599  71.2833   C85        C      1  \n",
       "2  STON/O2. 3101282   7.9250   NaN        S      2  \n",
       "3            113803  53.1000  C123        S      1  \n",
       "4            373450   8.0500   NaN        S      5  "
      ]
     },
     "execution_count": 31,
     "metadata": {},
     "output_type": "execute_result"
    }
   ],
   "source": [
    "train_df = train_df.drop(['AgeBand'], axis=1)\n",
    "combine = [train_df, test_df]\n",
    "train_df.head()"
   ]
  },
  {
   "cell_type": "markdown",
   "id": "275d7887-0e54-40cc-a1b2-d9c58979cb15",
   "metadata": {},
   "source": [
    "## **Feature Engineering - Family Size**"
   ]
  },
  {
   "cell_type": "markdown",
   "id": "edb61619-6926-4136-b0c6-825eca7edd1d",
   "metadata": {},
   "source": [
    "Create a new feature called family size that combines Parch and Sibsp."
   ]
  },
  {
   "cell_type": "code",
   "execution_count": 32,
   "id": "ab11ab49-9522-41fa-8aba-abe57e789d7d",
   "metadata": {},
   "outputs": [
    {
     "data": {
      "text/html": [
       "<div>\n",
       "<style scoped>\n",
       "    .dataframe tbody tr th:only-of-type {\n",
       "        vertical-align: middle;\n",
       "    }\n",
       "\n",
       "    .dataframe tbody tr th {\n",
       "        vertical-align: top;\n",
       "    }\n",
       "\n",
       "    .dataframe thead th {\n",
       "        text-align: right;\n",
       "    }\n",
       "</style>\n",
       "<table border=\"1\" class=\"dataframe\">\n",
       "  <thead>\n",
       "    <tr style=\"text-align: right;\">\n",
       "      <th></th>\n",
       "      <th>FamilySize</th>\n",
       "      <th>Survived</th>\n",
       "    </tr>\n",
       "  </thead>\n",
       "  <tbody>\n",
       "    <tr>\n",
       "      <th>3</th>\n",
       "      <td>4</td>\n",
       "      <td>0.724138</td>\n",
       "    </tr>\n",
       "    <tr>\n",
       "      <th>2</th>\n",
       "      <td>3</td>\n",
       "      <td>0.578431</td>\n",
       "    </tr>\n",
       "    <tr>\n",
       "      <th>1</th>\n",
       "      <td>2</td>\n",
       "      <td>0.552795</td>\n",
       "    </tr>\n",
       "    <tr>\n",
       "      <th>6</th>\n",
       "      <td>7</td>\n",
       "      <td>0.333333</td>\n",
       "    </tr>\n",
       "    <tr>\n",
       "      <th>0</th>\n",
       "      <td>1</td>\n",
       "      <td>0.303538</td>\n",
       "    </tr>\n",
       "    <tr>\n",
       "      <th>4</th>\n",
       "      <td>5</td>\n",
       "      <td>0.200000</td>\n",
       "    </tr>\n",
       "    <tr>\n",
       "      <th>5</th>\n",
       "      <td>6</td>\n",
       "      <td>0.136364</td>\n",
       "    </tr>\n",
       "    <tr>\n",
       "      <th>7</th>\n",
       "      <td>8</td>\n",
       "      <td>0.000000</td>\n",
       "    </tr>\n",
       "    <tr>\n",
       "      <th>8</th>\n",
       "      <td>11</td>\n",
       "      <td>0.000000</td>\n",
       "    </tr>\n",
       "  </tbody>\n",
       "</table>\n",
       "</div>"
      ],
      "text/plain": [
       "   FamilySize  Survived\n",
       "3           4  0.724138\n",
       "2           3  0.578431\n",
       "1           2  0.552795\n",
       "6           7  0.333333\n",
       "0           1  0.303538\n",
       "4           5  0.200000\n",
       "5           6  0.136364\n",
       "7           8  0.000000\n",
       "8          11  0.000000"
      ]
     },
     "execution_count": 32,
     "metadata": {},
     "output_type": "execute_result"
    }
   ],
   "source": [
    "# create the feature\n",
    "for dataset in combine:\n",
    "    dataset['FamilySize'] = dataset['Parch'] + dataset['SibSp'] + 1    # +1 for the individual\n",
    "    \n",
    "# test correlation to survived\n",
    "(train_df[['FamilySize','Survived']]\n",
    "     .groupby(['FamilySize'],as_index=False)\n",
    "     .mean()\n",
    "     .sort_values(by='Survived',ascending=False)\n",
    ")"
   ]
  },
  {
   "cell_type": "markdown",
   "id": "157ac74d-5985-4e3a-84c7-e80888e365d6",
   "metadata": {},
   "source": [
    "## **Feature Engineering - IsAlone**"
   ]
  },
  {
   "cell_type": "markdown",
   "id": "419b52d5-9d38-4ca2-af32-ee47714776e6",
   "metadata": {},
   "source": [
    "Create a new feature from family size called isalone that counts solo passengers."
   ]
  },
  {
   "cell_type": "code",
   "execution_count": 33,
   "id": "5468a6ba-328b-47cc-97d1-4e3e13078a2a",
   "metadata": {},
   "outputs": [
    {
     "data": {
      "text/html": [
       "<div>\n",
       "<style scoped>\n",
       "    .dataframe tbody tr th:only-of-type {\n",
       "        vertical-align: middle;\n",
       "    }\n",
       "\n",
       "    .dataframe tbody tr th {\n",
       "        vertical-align: top;\n",
       "    }\n",
       "\n",
       "    .dataframe thead th {\n",
       "        text-align: right;\n",
       "    }\n",
       "</style>\n",
       "<table border=\"1\" class=\"dataframe\">\n",
       "  <thead>\n",
       "    <tr style=\"text-align: right;\">\n",
       "      <th></th>\n",
       "      <th>IsAlone</th>\n",
       "      <th>Survived</th>\n",
       "    </tr>\n",
       "  </thead>\n",
       "  <tbody>\n",
       "    <tr>\n",
       "      <th>0</th>\n",
       "      <td>0</td>\n",
       "      <td>0.505650</td>\n",
       "    </tr>\n",
       "    <tr>\n",
       "      <th>1</th>\n",
       "      <td>1</td>\n",
       "      <td>0.303538</td>\n",
       "    </tr>\n",
       "  </tbody>\n",
       "</table>\n",
       "</div>"
      ],
      "text/plain": [
       "   IsAlone  Survived\n",
       "0        0  0.505650\n",
       "1        1  0.303538"
      ]
     },
     "execution_count": 33,
     "metadata": {},
     "output_type": "execute_result"
    }
   ],
   "source": [
    "#create the feature\n",
    "for dataset in combine:\n",
    "    dataset['IsAlone'] = 0\n",
    "    dataset.loc[dataset['FamilySize'] == 1, 'IsAlone'] = 1\n",
    "\n",
    "\n",
    "# test correlation to survived\n",
    "(train_df[['IsAlone','Survived']]\n",
    "     .groupby(['IsAlone'],as_index=False)\n",
    "     .mean()\n",
    "     .sort_values(by='Survived',ascending=False)\n",
    ")"
   ]
  },
  {
   "cell_type": "markdown",
   "id": "c985c55b-cfdc-4491-aa75-4ee31a253f35",
   "metadata": {},
   "source": [
    "#### **Fill missing values for Embarked**"
   ]
  },
  {
   "cell_type": "markdown",
   "id": "57b69d0c-64d9-4734-a207-7dcd8e390912",
   "metadata": {},
   "source": [
    "Embarked had 2 missing values in training data. Thus we fill it with the most common occurance."
   ]
  },
  {
   "cell_type": "code",
   "execution_count": 34,
   "id": "f2cb35b0-f7bb-4444-9dd9-84cbf6ad84f9",
   "metadata": {},
   "outputs": [
    {
     "name": "stdout",
     "output_type": "stream",
     "text": [
      "S\n"
     ]
    }
   ],
   "source": [
    "# from embarked column, select null values, drop it, then calculate the first index of the mode of embarked\n",
    "\n",
    "embarked_freq = train_df['Embarked'].dropna().mode()[0]\n",
    "print(embarked_freq)"
   ]
  },
  {
   "cell_type": "code",
   "execution_count": 35,
   "id": "0eaa6484-faf9-4a7a-b9c3-59e93f699356",
   "metadata": {},
   "outputs": [
    {
     "name": "stdout",
     "output_type": "stream",
     "text": [
      "2\n",
      "0\n"
     ]
    }
   ],
   "source": [
    "# print to check number of null rows in embarked\n",
    "print(train_df['Embarked'].isnull().sum())\n",
    "\n",
    "# fill in the null values for embarked in dataset\n",
    "#for dataset in combine:\n",
    "    #dataset['Embarked'] = dataset['Embarked'].fillna(embarked_freq)\n",
    "train_df['Embarked'] = train_df['Embarked'].fillna(embarked_freq)\n",
    "\n",
    "# print to check number of null rows in embarked\n",
    "print(train_df['Embarked'].isnull().sum())"
   ]
  },
  {
   "cell_type": "markdown",
   "id": "7f75ff2f-c3ae-4ded-9645-826366bbd0e1",
   "metadata": {},
   "source": [
    "#### **Convert Embarked cateogorical to numerical feature**"
   ]
  },
  {
   "cell_type": "code",
   "execution_count": 36,
   "id": "1c6b20d1-2b87-4a8f-b0cc-6b6d5c7b431c",
   "metadata": {},
   "outputs": [
    {
     "data": {
      "text/html": [
       "<div>\n",
       "<style scoped>\n",
       "    .dataframe tbody tr th:only-of-type {\n",
       "        vertical-align: middle;\n",
       "    }\n",
       "\n",
       "    .dataframe tbody tr th {\n",
       "        vertical-align: top;\n",
       "    }\n",
       "\n",
       "    .dataframe thead th {\n",
       "        text-align: right;\n",
       "    }\n",
       "</style>\n",
       "<table border=\"1\" class=\"dataframe\">\n",
       "  <thead>\n",
       "    <tr style=\"text-align: right;\">\n",
       "      <th></th>\n",
       "      <th>PassengerId</th>\n",
       "      <th>Survived</th>\n",
       "      <th>Pclass</th>\n",
       "      <th>Name</th>\n",
       "      <th>Sex</th>\n",
       "      <th>Age</th>\n",
       "      <th>SibSp</th>\n",
       "      <th>Parch</th>\n",
       "      <th>Ticket</th>\n",
       "      <th>Fare</th>\n",
       "      <th>Cabin</th>\n",
       "      <th>Embarked</th>\n",
       "      <th>Title</th>\n",
       "      <th>FamilySize</th>\n",
       "      <th>IsAlone</th>\n",
       "    </tr>\n",
       "  </thead>\n",
       "  <tbody>\n",
       "    <tr>\n",
       "      <th>0</th>\n",
       "      <td>1</td>\n",
       "      <td>0</td>\n",
       "      <td>3</td>\n",
       "      <td>Braund, Mr. Owen Harris</td>\n",
       "      <td>0</td>\n",
       "      <td>1</td>\n",
       "      <td>1</td>\n",
       "      <td>0</td>\n",
       "      <td>A/5 21171</td>\n",
       "      <td>7.2500</td>\n",
       "      <td>NaN</td>\n",
       "      <td>0</td>\n",
       "      <td>5</td>\n",
       "      <td>2</td>\n",
       "      <td>0</td>\n",
       "    </tr>\n",
       "    <tr>\n",
       "      <th>1</th>\n",
       "      <td>2</td>\n",
       "      <td>1</td>\n",
       "      <td>1</td>\n",
       "      <td>Cumings, Mrs. John Bradley (Florence Briggs Th...</td>\n",
       "      <td>1</td>\n",
       "      <td>2</td>\n",
       "      <td>1</td>\n",
       "      <td>0</td>\n",
       "      <td>PC 17599</td>\n",
       "      <td>71.2833</td>\n",
       "      <td>C85</td>\n",
       "      <td>1</td>\n",
       "      <td>1</td>\n",
       "      <td>2</td>\n",
       "      <td>0</td>\n",
       "    </tr>\n",
       "    <tr>\n",
       "      <th>2</th>\n",
       "      <td>3</td>\n",
       "      <td>1</td>\n",
       "      <td>3</td>\n",
       "      <td>Heikkinen, Miss. Laina</td>\n",
       "      <td>1</td>\n",
       "      <td>1</td>\n",
       "      <td>0</td>\n",
       "      <td>0</td>\n",
       "      <td>STON/O2. 3101282</td>\n",
       "      <td>7.9250</td>\n",
       "      <td>NaN</td>\n",
       "      <td>0</td>\n",
       "      <td>2</td>\n",
       "      <td>1</td>\n",
       "      <td>1</td>\n",
       "    </tr>\n",
       "    <tr>\n",
       "      <th>3</th>\n",
       "      <td>4</td>\n",
       "      <td>1</td>\n",
       "      <td>1</td>\n",
       "      <td>Futrelle, Mrs. Jacques Heath (Lily May Peel)</td>\n",
       "      <td>1</td>\n",
       "      <td>2</td>\n",
       "      <td>1</td>\n",
       "      <td>0</td>\n",
       "      <td>113803</td>\n",
       "      <td>53.1000</td>\n",
       "      <td>C123</td>\n",
       "      <td>0</td>\n",
       "      <td>1</td>\n",
       "      <td>2</td>\n",
       "      <td>0</td>\n",
       "    </tr>\n",
       "    <tr>\n",
       "      <th>4</th>\n",
       "      <td>5</td>\n",
       "      <td>0</td>\n",
       "      <td>3</td>\n",
       "      <td>Allen, Mr. William Henry</td>\n",
       "      <td>0</td>\n",
       "      <td>2</td>\n",
       "      <td>0</td>\n",
       "      <td>0</td>\n",
       "      <td>373450</td>\n",
       "      <td>8.0500</td>\n",
       "      <td>NaN</td>\n",
       "      <td>0</td>\n",
       "      <td>5</td>\n",
       "      <td>1</td>\n",
       "      <td>1</td>\n",
       "    </tr>\n",
       "  </tbody>\n",
       "</table>\n",
       "</div>"
      ],
      "text/plain": [
       "   PassengerId  Survived  Pclass  \\\n",
       "0            1         0       3   \n",
       "1            2         1       1   \n",
       "2            3         1       3   \n",
       "3            4         1       1   \n",
       "4            5         0       3   \n",
       "\n",
       "                                                Name  Sex  Age  SibSp  Parch  \\\n",
       "0                            Braund, Mr. Owen Harris    0    1      1      0   \n",
       "1  Cumings, Mrs. John Bradley (Florence Briggs Th...    1    2      1      0   \n",
       "2                             Heikkinen, Miss. Laina    1    1      0      0   \n",
       "3       Futrelle, Mrs. Jacques Heath (Lily May Peel)    1    2      1      0   \n",
       "4                           Allen, Mr. William Henry    0    2      0      0   \n",
       "\n",
       "             Ticket     Fare Cabin  Embarked  Title  FamilySize  IsAlone  \n",
       "0         A/5 21171   7.2500   NaN         0      5           2        0  \n",
       "1          PC 17599  71.2833   C85         1      1           2        0  \n",
       "2  STON/O2. 3101282   7.9250   NaN         0      2           1        1  \n",
       "3            113803  53.1000  C123         0      1           2        0  \n",
       "4            373450   8.0500   NaN         0      5           1        1  "
      ]
     },
     "execution_count": 36,
     "metadata": {},
     "output_type": "execute_result"
    }
   ],
   "source": [
    "for dataset in combine:\n",
    "    dataset['Embarked']=dataset['Embarked'].map({'S':0,'C':1,'Q':1}).astype(int)\n",
    "\n",
    "train_df.head()"
   ]
  },
  {
   "cell_type": "markdown",
   "id": "a56ca279-cdc3-4c16-ba8a-17510a81961a",
   "metadata": {},
   "source": [
    "## **Feature Engineering - Fare**"
   ]
  },
  {
   "cell_type": "markdown",
   "id": "0de23a70-99db-49ac-954f-fe053d6a851b",
   "metadata": {},
   "source": [
    "#### **Fill Missing Values**"
   ]
  },
  {
   "cell_type": "markdown",
   "id": "2ec9f3ee-d861-4d2d-a5db-332232338d2f",
   "metadata": {},
   "source": [
    "In this case we use median instead of mode(previously in embarked it was mode) was median accounts for outliers in the data, ie. expensive ticket prices or people who did not pay/have a fare."
   ]
  },
  {
   "cell_type": "code",
   "execution_count": 37,
   "id": "6afabc9b-8911-49c2-971f-7a5046cddf60",
   "metadata": {},
   "outputs": [
    {
     "name": "stdout",
     "output_type": "stream",
     "text": [
      "1\n",
      "0\n"
     ]
    }
   ],
   "source": [
    "# print to check number of null rows in fare\n",
    "print(test_df['Fare'].isnull().sum())\n",
    "print(train_df['Fare'].isnull().sum())"
   ]
  },
  {
   "cell_type": "code",
   "execution_count": 38,
   "id": "49fc22b0-9305-489d-aa0b-c425bb804073",
   "metadata": {},
   "outputs": [
    {
     "name": "stdout",
     "output_type": "stream",
     "text": [
      "0\n"
     ]
    }
   ],
   "source": [
    "# fill in the null values for fare in test data \n",
    "fare_median = test_df['Fare'].dropna().median()\n",
    "test_df['Fare'] = test_df['Fare'].fillna(fare_median)\n",
    "\n",
    "# print to check number of null rows in embarked\n",
    "print(test_df['Fare'].isnull().sum())"
   ]
  },
  {
   "cell_type": "markdown",
   "id": "c832a0c7-6ef7-44ed-b8b8-d6e93d0f2aff",
   "metadata": {},
   "source": [
    "#### **Create FareBands**"
   ]
  },
  {
   "cell_type": "code",
   "execution_count": 39,
   "id": "376a6e90-ba4a-4edc-9344-5ab917936167",
   "metadata": {},
   "outputs": [
    {
     "name": "stderr",
     "output_type": "stream",
     "text": [
      "C:\\Users\\colin\\AppData\\Local\\Temp\\ipykernel_2092\\2317712557.py:5: FutureWarning: The default of observed=False is deprecated and will be changed to True in a future version of pandas. Pass observed=False to retain current behavior or observed=True to adopt the future default and silence this warning.\n",
      "  (train_df[['FareBand','Survived']]\n"
     ]
    },
    {
     "data": {
      "text/html": [
       "<div>\n",
       "<style scoped>\n",
       "    .dataframe tbody tr th:only-of-type {\n",
       "        vertical-align: middle;\n",
       "    }\n",
       "\n",
       "    .dataframe tbody tr th {\n",
       "        vertical-align: top;\n",
       "    }\n",
       "\n",
       "    .dataframe thead th {\n",
       "        text-align: right;\n",
       "    }\n",
       "</style>\n",
       "<table border=\"1\" class=\"dataframe\">\n",
       "  <thead>\n",
       "    <tr style=\"text-align: right;\">\n",
       "      <th></th>\n",
       "      <th>FareBand</th>\n",
       "      <th>Survived</th>\n",
       "    </tr>\n",
       "  </thead>\n",
       "  <tbody>\n",
       "    <tr>\n",
       "      <th>3</th>\n",
       "      <td>(31.0, 512.329]</td>\n",
       "      <td>0.581081</td>\n",
       "    </tr>\n",
       "    <tr>\n",
       "      <th>2</th>\n",
       "      <td>(14.454, 31.0]</td>\n",
       "      <td>0.454955</td>\n",
       "    </tr>\n",
       "    <tr>\n",
       "      <th>1</th>\n",
       "      <td>(7.91, 14.454]</td>\n",
       "      <td>0.303571</td>\n",
       "    </tr>\n",
       "    <tr>\n",
       "      <th>0</th>\n",
       "      <td>(-0.001, 7.91]</td>\n",
       "      <td>0.197309</td>\n",
       "    </tr>\n",
       "  </tbody>\n",
       "</table>\n",
       "</div>"
      ],
      "text/plain": [
       "          FareBand  Survived\n",
       "3  (31.0, 512.329]  0.581081\n",
       "2   (14.454, 31.0]  0.454955\n",
       "1   (7.91, 14.454]  0.303571\n",
       "0   (-0.001, 7.91]  0.197309"
      ]
     },
     "execution_count": 39,
     "metadata": {},
     "output_type": "execute_result"
    }
   ],
   "source": [
    "# split fare into bands\n",
    "train_df['FareBand'] = pd.qcut(train_df['Fare'],4)\n",
    "\n",
    "# test correlation to survived\n",
    "(train_df[['FareBand','Survived']]\n",
    " .groupby('FareBand',as_index=False)\n",
    " .mean()\n",
    " .sort_values(by=['FareBand'],ascending=False)\n",
    ")"
   ]
  },
  {
   "cell_type": "markdown",
   "id": "82c41ff2-7909-4bd9-94d1-9e985cb06a21",
   "metadata": {},
   "source": [
    "#### **Convert to Ordinal Values**"
   ]
  },
  {
   "cell_type": "code",
   "execution_count": 40,
   "id": "74fd3ef8-8aae-431d-8425-91739001b16e",
   "metadata": {},
   "outputs": [
    {
     "data": {
      "text/html": [
       "<div>\n",
       "<style scoped>\n",
       "    .dataframe tbody tr th:only-of-type {\n",
       "        vertical-align: middle;\n",
       "    }\n",
       "\n",
       "    .dataframe tbody tr th {\n",
       "        vertical-align: top;\n",
       "    }\n",
       "\n",
       "    .dataframe thead th {\n",
       "        text-align: right;\n",
       "    }\n",
       "</style>\n",
       "<table border=\"1\" class=\"dataframe\">\n",
       "  <thead>\n",
       "    <tr style=\"text-align: right;\">\n",
       "      <th></th>\n",
       "      <th>PassengerId</th>\n",
       "      <th>Survived</th>\n",
       "      <th>Pclass</th>\n",
       "      <th>Name</th>\n",
       "      <th>Sex</th>\n",
       "      <th>Age</th>\n",
       "      <th>SibSp</th>\n",
       "      <th>Parch</th>\n",
       "      <th>Ticket</th>\n",
       "      <th>Fare</th>\n",
       "      <th>Cabin</th>\n",
       "      <th>Embarked</th>\n",
       "      <th>Title</th>\n",
       "      <th>FamilySize</th>\n",
       "      <th>IsAlone</th>\n",
       "      <th>FareBand</th>\n",
       "    </tr>\n",
       "  </thead>\n",
       "  <tbody>\n",
       "    <tr>\n",
       "      <th>0</th>\n",
       "      <td>1</td>\n",
       "      <td>0</td>\n",
       "      <td>3</td>\n",
       "      <td>Braund, Mr. Owen Harris</td>\n",
       "      <td>0</td>\n",
       "      <td>1</td>\n",
       "      <td>1</td>\n",
       "      <td>0</td>\n",
       "      <td>A/5 21171</td>\n",
       "      <td>0</td>\n",
       "      <td>NaN</td>\n",
       "      <td>0</td>\n",
       "      <td>5</td>\n",
       "      <td>2</td>\n",
       "      <td>0</td>\n",
       "      <td>(-0.001, 7.91]</td>\n",
       "    </tr>\n",
       "    <tr>\n",
       "      <th>1</th>\n",
       "      <td>2</td>\n",
       "      <td>1</td>\n",
       "      <td>1</td>\n",
       "      <td>Cumings, Mrs. John Bradley (Florence Briggs Th...</td>\n",
       "      <td>1</td>\n",
       "      <td>2</td>\n",
       "      <td>1</td>\n",
       "      <td>0</td>\n",
       "      <td>PC 17599</td>\n",
       "      <td>3</td>\n",
       "      <td>C85</td>\n",
       "      <td>1</td>\n",
       "      <td>1</td>\n",
       "      <td>2</td>\n",
       "      <td>0</td>\n",
       "      <td>(31.0, 512.329]</td>\n",
       "    </tr>\n",
       "    <tr>\n",
       "      <th>2</th>\n",
       "      <td>3</td>\n",
       "      <td>1</td>\n",
       "      <td>3</td>\n",
       "      <td>Heikkinen, Miss. Laina</td>\n",
       "      <td>1</td>\n",
       "      <td>1</td>\n",
       "      <td>0</td>\n",
       "      <td>0</td>\n",
       "      <td>STON/O2. 3101282</td>\n",
       "      <td>1</td>\n",
       "      <td>NaN</td>\n",
       "      <td>0</td>\n",
       "      <td>2</td>\n",
       "      <td>1</td>\n",
       "      <td>1</td>\n",
       "      <td>(7.91, 14.454]</td>\n",
       "    </tr>\n",
       "    <tr>\n",
       "      <th>3</th>\n",
       "      <td>4</td>\n",
       "      <td>1</td>\n",
       "      <td>1</td>\n",
       "      <td>Futrelle, Mrs. Jacques Heath (Lily May Peel)</td>\n",
       "      <td>1</td>\n",
       "      <td>2</td>\n",
       "      <td>1</td>\n",
       "      <td>0</td>\n",
       "      <td>113803</td>\n",
       "      <td>3</td>\n",
       "      <td>C123</td>\n",
       "      <td>0</td>\n",
       "      <td>1</td>\n",
       "      <td>2</td>\n",
       "      <td>0</td>\n",
       "      <td>(31.0, 512.329]</td>\n",
       "    </tr>\n",
       "    <tr>\n",
       "      <th>4</th>\n",
       "      <td>5</td>\n",
       "      <td>0</td>\n",
       "      <td>3</td>\n",
       "      <td>Allen, Mr. William Henry</td>\n",
       "      <td>0</td>\n",
       "      <td>2</td>\n",
       "      <td>0</td>\n",
       "      <td>0</td>\n",
       "      <td>373450</td>\n",
       "      <td>1</td>\n",
       "      <td>NaN</td>\n",
       "      <td>0</td>\n",
       "      <td>5</td>\n",
       "      <td>1</td>\n",
       "      <td>1</td>\n",
       "      <td>(7.91, 14.454]</td>\n",
       "    </tr>\n",
       "  </tbody>\n",
       "</table>\n",
       "</div>"
      ],
      "text/plain": [
       "   PassengerId  Survived  Pclass  \\\n",
       "0            1         0       3   \n",
       "1            2         1       1   \n",
       "2            3         1       3   \n",
       "3            4         1       1   \n",
       "4            5         0       3   \n",
       "\n",
       "                                                Name  Sex  Age  SibSp  Parch  \\\n",
       "0                            Braund, Mr. Owen Harris    0    1      1      0   \n",
       "1  Cumings, Mrs. John Bradley (Florence Briggs Th...    1    2      1      0   \n",
       "2                             Heikkinen, Miss. Laina    1    1      0      0   \n",
       "3       Futrelle, Mrs. Jacques Heath (Lily May Peel)    1    2      1      0   \n",
       "4                           Allen, Mr. William Henry    0    2      0      0   \n",
       "\n",
       "             Ticket  Fare Cabin  Embarked  Title  FamilySize  IsAlone  \\\n",
       "0         A/5 21171     0   NaN         0      5           2        0   \n",
       "1          PC 17599     3   C85         1      1           2        0   \n",
       "2  STON/O2. 3101282     1   NaN         0      2           1        1   \n",
       "3            113803     3  C123         0      1           2        0   \n",
       "4            373450     1   NaN         0      5           1        1   \n",
       "\n",
       "          FareBand  \n",
       "0   (-0.001, 7.91]  \n",
       "1  (31.0, 512.329]  \n",
       "2   (7.91, 14.454]  \n",
       "3  (31.0, 512.329]  \n",
       "4   (7.91, 14.454]  "
      ]
     },
     "execution_count": 40,
     "metadata": {},
     "output_type": "execute_result"
    }
   ],
   "source": [
    "# convert fare into ordinal values\n",
    "for dataset in combine:\n",
    "    dataset.loc[dataset['Fare']<=7.91, 'Fare'] = 0\n",
    "    dataset.loc[(dataset['Fare']>7.91) & (dataset['Fare']<= 14.454), 'Fare'] = 1\n",
    "    dataset.loc[(dataset['Fare']>14.454) & (dataset['Fare']<= 31.0), 'Fare'] = 2\n",
    "    dataset.loc[dataset['Fare']>31.0, 'Fare'] = 3\n",
    "    dataset['Fare'] = dataset['Fare'].astype(int)\n",
    "\n",
    "#print check\n",
    "train_df.head()"
   ]
  },
  {
   "cell_type": "markdown",
   "id": "f62afa66-b1a3-4d95-8fac-6c1814fd8821",
   "metadata": {},
   "source": [
    "## **Final check for data features**"
   ]
  },
  {
   "cell_type": "markdown",
   "id": "39bc0f24-b1ec-4694-b3d4-ebefe2af92d5",
   "metadata": {},
   "source": [
    "#### **Dropping features**"
   ]
  },
  {
   "cell_type": "markdown",
   "id": "1e230375-4693-47d8-a81f-479447872b7f",
   "metadata": {},
   "source": [
    "Drop\n",
    "- name\n",
    "- sibsp\n",
    "- parch\n",
    "- ticket\n",
    "- fare\n",
    "- cabin\n",
    "- fare band e"
   ]
  },
  {
   "cell_type": "code",
   "execution_count": 41,
   "id": "9a0923a2-b38e-4f47-9caf-0d4727ebf90a",
   "metadata": {},
   "outputs": [
    {
     "data": {
      "text/html": [
       "<div>\n",
       "<style scoped>\n",
       "    .dataframe tbody tr th:only-of-type {\n",
       "        vertical-align: middle;\n",
       "    }\n",
       "\n",
       "    .dataframe tbody tr th {\n",
       "        vertical-align: top;\n",
       "    }\n",
       "\n",
       "    .dataframe thead th {\n",
       "        text-align: right;\n",
       "    }\n",
       "</style>\n",
       "<table border=\"1\" class=\"dataframe\">\n",
       "  <thead>\n",
       "    <tr style=\"text-align: right;\">\n",
       "      <th></th>\n",
       "      <th>PassengerId</th>\n",
       "      <th>Survived</th>\n",
       "      <th>Pclass</th>\n",
       "      <th>Name</th>\n",
       "      <th>Sex</th>\n",
       "      <th>Age</th>\n",
       "      <th>SibSp</th>\n",
       "      <th>Parch</th>\n",
       "      <th>Ticket</th>\n",
       "      <th>Fare</th>\n",
       "      <th>Cabin</th>\n",
       "      <th>Embarked</th>\n",
       "      <th>Title</th>\n",
       "      <th>FamilySize</th>\n",
       "      <th>IsAlone</th>\n",
       "      <th>FareBand</th>\n",
       "    </tr>\n",
       "  </thead>\n",
       "  <tbody>\n",
       "    <tr>\n",
       "      <th>0</th>\n",
       "      <td>1</td>\n",
       "      <td>0</td>\n",
       "      <td>3</td>\n",
       "      <td>Braund, Mr. Owen Harris</td>\n",
       "      <td>0</td>\n",
       "      <td>1</td>\n",
       "      <td>1</td>\n",
       "      <td>0</td>\n",
       "      <td>A/5 21171</td>\n",
       "      <td>0</td>\n",
       "      <td>NaN</td>\n",
       "      <td>0</td>\n",
       "      <td>5</td>\n",
       "      <td>2</td>\n",
       "      <td>0</td>\n",
       "      <td>(-0.001, 7.91]</td>\n",
       "    </tr>\n",
       "    <tr>\n",
       "      <th>1</th>\n",
       "      <td>2</td>\n",
       "      <td>1</td>\n",
       "      <td>1</td>\n",
       "      <td>Cumings, Mrs. John Bradley (Florence Briggs Th...</td>\n",
       "      <td>1</td>\n",
       "      <td>2</td>\n",
       "      <td>1</td>\n",
       "      <td>0</td>\n",
       "      <td>PC 17599</td>\n",
       "      <td>3</td>\n",
       "      <td>C85</td>\n",
       "      <td>1</td>\n",
       "      <td>1</td>\n",
       "      <td>2</td>\n",
       "      <td>0</td>\n",
       "      <td>(31.0, 512.329]</td>\n",
       "    </tr>\n",
       "    <tr>\n",
       "      <th>2</th>\n",
       "      <td>3</td>\n",
       "      <td>1</td>\n",
       "      <td>3</td>\n",
       "      <td>Heikkinen, Miss. Laina</td>\n",
       "      <td>1</td>\n",
       "      <td>1</td>\n",
       "      <td>0</td>\n",
       "      <td>0</td>\n",
       "      <td>STON/O2. 3101282</td>\n",
       "      <td>1</td>\n",
       "      <td>NaN</td>\n",
       "      <td>0</td>\n",
       "      <td>2</td>\n",
       "      <td>1</td>\n",
       "      <td>1</td>\n",
       "      <td>(7.91, 14.454]</td>\n",
       "    </tr>\n",
       "    <tr>\n",
       "      <th>3</th>\n",
       "      <td>4</td>\n",
       "      <td>1</td>\n",
       "      <td>1</td>\n",
       "      <td>Futrelle, Mrs. Jacques Heath (Lily May Peel)</td>\n",
       "      <td>1</td>\n",
       "      <td>2</td>\n",
       "      <td>1</td>\n",
       "      <td>0</td>\n",
       "      <td>113803</td>\n",
       "      <td>3</td>\n",
       "      <td>C123</td>\n",
       "      <td>0</td>\n",
       "      <td>1</td>\n",
       "      <td>2</td>\n",
       "      <td>0</td>\n",
       "      <td>(31.0, 512.329]</td>\n",
       "    </tr>\n",
       "    <tr>\n",
       "      <th>4</th>\n",
       "      <td>5</td>\n",
       "      <td>0</td>\n",
       "      <td>3</td>\n",
       "      <td>Allen, Mr. William Henry</td>\n",
       "      <td>0</td>\n",
       "      <td>2</td>\n",
       "      <td>0</td>\n",
       "      <td>0</td>\n",
       "      <td>373450</td>\n",
       "      <td>1</td>\n",
       "      <td>NaN</td>\n",
       "      <td>0</td>\n",
       "      <td>5</td>\n",
       "      <td>1</td>\n",
       "      <td>1</td>\n",
       "      <td>(7.91, 14.454]</td>\n",
       "    </tr>\n",
       "  </tbody>\n",
       "</table>\n",
       "</div>"
      ],
      "text/plain": [
       "   PassengerId  Survived  Pclass  \\\n",
       "0            1         0       3   \n",
       "1            2         1       1   \n",
       "2            3         1       3   \n",
       "3            4         1       1   \n",
       "4            5         0       3   \n",
       "\n",
       "                                                Name  Sex  Age  SibSp  Parch  \\\n",
       "0                            Braund, Mr. Owen Harris    0    1      1      0   \n",
       "1  Cumings, Mrs. John Bradley (Florence Briggs Th...    1    2      1      0   \n",
       "2                             Heikkinen, Miss. Laina    1    1      0      0   \n",
       "3       Futrelle, Mrs. Jacques Heath (Lily May Peel)    1    2      1      0   \n",
       "4                           Allen, Mr. William Henry    0    2      0      0   \n",
       "\n",
       "             Ticket  Fare Cabin  Embarked  Title  FamilySize  IsAlone  \\\n",
       "0         A/5 21171     0   NaN         0      5           2        0   \n",
       "1          PC 17599     3   C85         1      1           2        0   \n",
       "2  STON/O2. 3101282     1   NaN         0      2           1        1   \n",
       "3            113803     3  C123         0      1           2        0   \n",
       "4            373450     1   NaN         0      5           1        1   \n",
       "\n",
       "          FareBand  \n",
       "0   (-0.001, 7.91]  \n",
       "1  (31.0, 512.329]  \n",
       "2   (7.91, 14.454]  \n",
       "3  (31.0, 512.329]  \n",
       "4   (7.91, 14.454]  "
      ]
     },
     "execution_count": 41,
     "metadata": {},
     "output_type": "execute_result"
    }
   ],
   "source": [
    "train_df.head()"
   ]
  },
  {
   "cell_type": "code",
   "execution_count": 42,
   "id": "93c5b59b-1f6d-43c4-a6a8-70da1b3df6ea",
   "metadata": {},
   "outputs": [
    {
     "data": {
      "text/html": [
       "<div>\n",
       "<style scoped>\n",
       "    .dataframe tbody tr th:only-of-type {\n",
       "        vertical-align: middle;\n",
       "    }\n",
       "\n",
       "    .dataframe tbody tr th {\n",
       "        vertical-align: top;\n",
       "    }\n",
       "\n",
       "    .dataframe thead th {\n",
       "        text-align: right;\n",
       "    }\n",
       "</style>\n",
       "<table border=\"1\" class=\"dataframe\">\n",
       "  <thead>\n",
       "    <tr style=\"text-align: right;\">\n",
       "      <th></th>\n",
       "      <th>PassengerId</th>\n",
       "      <th>Survived</th>\n",
       "      <th>Pclass</th>\n",
       "      <th>Sex</th>\n",
       "      <th>Age</th>\n",
       "      <th>Fare</th>\n",
       "      <th>Embarked</th>\n",
       "      <th>Title</th>\n",
       "      <th>FamilySize</th>\n",
       "      <th>IsAlone</th>\n",
       "    </tr>\n",
       "  </thead>\n",
       "  <tbody>\n",
       "    <tr>\n",
       "      <th>0</th>\n",
       "      <td>1</td>\n",
       "      <td>0</td>\n",
       "      <td>3</td>\n",
       "      <td>0</td>\n",
       "      <td>1</td>\n",
       "      <td>0</td>\n",
       "      <td>0</td>\n",
       "      <td>5</td>\n",
       "      <td>2</td>\n",
       "      <td>0</td>\n",
       "    </tr>\n",
       "    <tr>\n",
       "      <th>1</th>\n",
       "      <td>2</td>\n",
       "      <td>1</td>\n",
       "      <td>1</td>\n",
       "      <td>1</td>\n",
       "      <td>2</td>\n",
       "      <td>3</td>\n",
       "      <td>1</td>\n",
       "      <td>1</td>\n",
       "      <td>2</td>\n",
       "      <td>0</td>\n",
       "    </tr>\n",
       "    <tr>\n",
       "      <th>2</th>\n",
       "      <td>3</td>\n",
       "      <td>1</td>\n",
       "      <td>3</td>\n",
       "      <td>1</td>\n",
       "      <td>1</td>\n",
       "      <td>1</td>\n",
       "      <td>0</td>\n",
       "      <td>2</td>\n",
       "      <td>1</td>\n",
       "      <td>1</td>\n",
       "    </tr>\n",
       "    <tr>\n",
       "      <th>3</th>\n",
       "      <td>4</td>\n",
       "      <td>1</td>\n",
       "      <td>1</td>\n",
       "      <td>1</td>\n",
       "      <td>2</td>\n",
       "      <td>3</td>\n",
       "      <td>0</td>\n",
       "      <td>1</td>\n",
       "      <td>2</td>\n",
       "      <td>0</td>\n",
       "    </tr>\n",
       "    <tr>\n",
       "      <th>4</th>\n",
       "      <td>5</td>\n",
       "      <td>0</td>\n",
       "      <td>3</td>\n",
       "      <td>0</td>\n",
       "      <td>2</td>\n",
       "      <td>1</td>\n",
       "      <td>0</td>\n",
       "      <td>5</td>\n",
       "      <td>1</td>\n",
       "      <td>1</td>\n",
       "    </tr>\n",
       "  </tbody>\n",
       "</table>\n",
       "</div>"
      ],
      "text/plain": [
       "   PassengerId  Survived  Pclass  Sex  Age  Fare  Embarked  Title  FamilySize  \\\n",
       "0            1         0       3    0    1     0         0      5           2   \n",
       "1            2         1       1    1    2     3         1      1           2   \n",
       "2            3         1       3    1    1     1         0      2           1   \n",
       "3            4         1       1    1    2     3         0      1           2   \n",
       "4            5         0       3    0    2     1         0      5           1   \n",
       "\n",
       "   IsAlone  \n",
       "0        0  \n",
       "1        0  \n",
       "2        1  \n",
       "3        0  \n",
       "4        1  "
      ]
     },
     "execution_count": 42,
     "metadata": {},
     "output_type": "execute_result"
    }
   ],
   "source": [
    "# drop features\n",
    "\n",
    "train_df = train_df.drop(['Name','SibSp','Parch','Ticket','Cabin','FareBand'],axis=1)\n",
    "train_df.head()"
   ]
  },
  {
   "cell_type": "code",
   "execution_count": 43,
   "id": "13a4e204-f812-4813-8ede-1f94f1ad290d",
   "metadata": {},
   "outputs": [
    {
     "data": {
      "text/html": [
       "<div>\n",
       "<style scoped>\n",
       "    .dataframe tbody tr th:only-of-type {\n",
       "        vertical-align: middle;\n",
       "    }\n",
       "\n",
       "    .dataframe tbody tr th {\n",
       "        vertical-align: top;\n",
       "    }\n",
       "\n",
       "    .dataframe thead th {\n",
       "        text-align: right;\n",
       "    }\n",
       "</style>\n",
       "<table border=\"1\" class=\"dataframe\">\n",
       "  <thead>\n",
       "    <tr style=\"text-align: right;\">\n",
       "      <th></th>\n",
       "      <th>PassengerId</th>\n",
       "      <th>Pclass</th>\n",
       "      <th>Name</th>\n",
       "      <th>Sex</th>\n",
       "      <th>Age</th>\n",
       "      <th>SibSp</th>\n",
       "      <th>Parch</th>\n",
       "      <th>Ticket</th>\n",
       "      <th>Fare</th>\n",
       "      <th>Cabin</th>\n",
       "      <th>Embarked</th>\n",
       "      <th>Title</th>\n",
       "      <th>FamilySize</th>\n",
       "      <th>IsAlone</th>\n",
       "    </tr>\n",
       "  </thead>\n",
       "  <tbody>\n",
       "    <tr>\n",
       "      <th>0</th>\n",
       "      <td>892</td>\n",
       "      <td>3</td>\n",
       "      <td>Kelly, Mr. James</td>\n",
       "      <td>0</td>\n",
       "      <td>2</td>\n",
       "      <td>0</td>\n",
       "      <td>0</td>\n",
       "      <td>330911</td>\n",
       "      <td>0</td>\n",
       "      <td>NaN</td>\n",
       "      <td>1</td>\n",
       "      <td>5.0</td>\n",
       "      <td>1</td>\n",
       "      <td>1</td>\n",
       "    </tr>\n",
       "    <tr>\n",
       "      <th>1</th>\n",
       "      <td>893</td>\n",
       "      <td>3</td>\n",
       "      <td>Wilkes, Mrs. James (Ellen Needs)</td>\n",
       "      <td>1</td>\n",
       "      <td>2</td>\n",
       "      <td>1</td>\n",
       "      <td>0</td>\n",
       "      <td>363272</td>\n",
       "      <td>0</td>\n",
       "      <td>NaN</td>\n",
       "      <td>0</td>\n",
       "      <td>1.0</td>\n",
       "      <td>2</td>\n",
       "      <td>0</td>\n",
       "    </tr>\n",
       "    <tr>\n",
       "      <th>2</th>\n",
       "      <td>894</td>\n",
       "      <td>2</td>\n",
       "      <td>Myles, Mr. Thomas Francis</td>\n",
       "      <td>0</td>\n",
       "      <td>3</td>\n",
       "      <td>0</td>\n",
       "      <td>0</td>\n",
       "      <td>240276</td>\n",
       "      <td>1</td>\n",
       "      <td>NaN</td>\n",
       "      <td>1</td>\n",
       "      <td>5.0</td>\n",
       "      <td>1</td>\n",
       "      <td>1</td>\n",
       "    </tr>\n",
       "    <tr>\n",
       "      <th>3</th>\n",
       "      <td>895</td>\n",
       "      <td>3</td>\n",
       "      <td>Wirz, Mr. Albert</td>\n",
       "      <td>0</td>\n",
       "      <td>1</td>\n",
       "      <td>0</td>\n",
       "      <td>0</td>\n",
       "      <td>315154</td>\n",
       "      <td>1</td>\n",
       "      <td>NaN</td>\n",
       "      <td>0</td>\n",
       "      <td>5.0</td>\n",
       "      <td>1</td>\n",
       "      <td>1</td>\n",
       "    </tr>\n",
       "    <tr>\n",
       "      <th>4</th>\n",
       "      <td>896</td>\n",
       "      <td>3</td>\n",
       "      <td>Hirvonen, Mrs. Alexander (Helga E Lindqvist)</td>\n",
       "      <td>1</td>\n",
       "      <td>1</td>\n",
       "      <td>1</td>\n",
       "      <td>1</td>\n",
       "      <td>3101298</td>\n",
       "      <td>1</td>\n",
       "      <td>NaN</td>\n",
       "      <td>0</td>\n",
       "      <td>1.0</td>\n",
       "      <td>3</td>\n",
       "      <td>0</td>\n",
       "    </tr>\n",
       "  </tbody>\n",
       "</table>\n",
       "</div>"
      ],
      "text/plain": [
       "   PassengerId  Pclass                                          Name  Sex  \\\n",
       "0          892       3                              Kelly, Mr. James    0   \n",
       "1          893       3              Wilkes, Mrs. James (Ellen Needs)    1   \n",
       "2          894       2                     Myles, Mr. Thomas Francis    0   \n",
       "3          895       3                              Wirz, Mr. Albert    0   \n",
       "4          896       3  Hirvonen, Mrs. Alexander (Helga E Lindqvist)    1   \n",
       "\n",
       "   Age  SibSp  Parch   Ticket  Fare Cabin  Embarked  Title  FamilySize  \\\n",
       "0    2      0      0   330911     0   NaN         1    5.0           1   \n",
       "1    2      1      0   363272     0   NaN         0    1.0           2   \n",
       "2    3      0      0   240276     1   NaN         1    5.0           1   \n",
       "3    1      0      0   315154     1   NaN         0    5.0           1   \n",
       "4    1      1      1  3101298     1   NaN         0    1.0           3   \n",
       "\n",
       "   IsAlone  \n",
       "0        1  \n",
       "1        0  \n",
       "2        1  \n",
       "3        1  \n",
       "4        0  "
      ]
     },
     "execution_count": 43,
     "metadata": {},
     "output_type": "execute_result"
    }
   ],
   "source": [
    "test_df.head()"
   ]
  },
  {
   "cell_type": "code",
   "execution_count": 44,
   "id": "17adc9d6-5ec6-40d3-a85b-cb79dcb77c12",
   "metadata": {},
   "outputs": [
    {
     "data": {
      "text/html": [
       "<div>\n",
       "<style scoped>\n",
       "    .dataframe tbody tr th:only-of-type {\n",
       "        vertical-align: middle;\n",
       "    }\n",
       "\n",
       "    .dataframe tbody tr th {\n",
       "        vertical-align: top;\n",
       "    }\n",
       "\n",
       "    .dataframe thead th {\n",
       "        text-align: right;\n",
       "    }\n",
       "</style>\n",
       "<table border=\"1\" class=\"dataframe\">\n",
       "  <thead>\n",
       "    <tr style=\"text-align: right;\">\n",
       "      <th></th>\n",
       "      <th>PassengerId</th>\n",
       "      <th>Pclass</th>\n",
       "      <th>Sex</th>\n",
       "      <th>Age</th>\n",
       "      <th>Fare</th>\n",
       "      <th>Embarked</th>\n",
       "      <th>Title</th>\n",
       "      <th>FamilySize</th>\n",
       "      <th>IsAlone</th>\n",
       "    </tr>\n",
       "  </thead>\n",
       "  <tbody>\n",
       "    <tr>\n",
       "      <th>0</th>\n",
       "      <td>892</td>\n",
       "      <td>3</td>\n",
       "      <td>0</td>\n",
       "      <td>2</td>\n",
       "      <td>0</td>\n",
       "      <td>1</td>\n",
       "      <td>5.0</td>\n",
       "      <td>1</td>\n",
       "      <td>1</td>\n",
       "    </tr>\n",
       "    <tr>\n",
       "      <th>1</th>\n",
       "      <td>893</td>\n",
       "      <td>3</td>\n",
       "      <td>1</td>\n",
       "      <td>2</td>\n",
       "      <td>0</td>\n",
       "      <td>0</td>\n",
       "      <td>1.0</td>\n",
       "      <td>2</td>\n",
       "      <td>0</td>\n",
       "    </tr>\n",
       "    <tr>\n",
       "      <th>2</th>\n",
       "      <td>894</td>\n",
       "      <td>2</td>\n",
       "      <td>0</td>\n",
       "      <td>3</td>\n",
       "      <td>1</td>\n",
       "      <td>1</td>\n",
       "      <td>5.0</td>\n",
       "      <td>1</td>\n",
       "      <td>1</td>\n",
       "    </tr>\n",
       "    <tr>\n",
       "      <th>3</th>\n",
       "      <td>895</td>\n",
       "      <td>3</td>\n",
       "      <td>0</td>\n",
       "      <td>1</td>\n",
       "      <td>1</td>\n",
       "      <td>0</td>\n",
       "      <td>5.0</td>\n",
       "      <td>1</td>\n",
       "      <td>1</td>\n",
       "    </tr>\n",
       "    <tr>\n",
       "      <th>4</th>\n",
       "      <td>896</td>\n",
       "      <td>3</td>\n",
       "      <td>1</td>\n",
       "      <td>1</td>\n",
       "      <td>1</td>\n",
       "      <td>0</td>\n",
       "      <td>1.0</td>\n",
       "      <td>3</td>\n",
       "      <td>0</td>\n",
       "    </tr>\n",
       "  </tbody>\n",
       "</table>\n",
       "</div>"
      ],
      "text/plain": [
       "   PassengerId  Pclass  Sex  Age  Fare  Embarked  Title  FamilySize  IsAlone\n",
       "0          892       3    0    2     0         1    5.0           1        1\n",
       "1          893       3    1    2     0         0    1.0           2        0\n",
       "2          894       2    0    3     1         1    5.0           1        1\n",
       "3          895       3    0    1     1         0    5.0           1        1\n",
       "4          896       3    1    1     1         0    1.0           3        0"
      ]
     },
     "execution_count": 44,
     "metadata": {},
     "output_type": "execute_result"
    }
   ],
   "source": [
    "test_df = test_df.drop(['Name','SibSp','Parch','Ticket','Cabin'],axis=1)\n",
    "test_df.head()"
   ]
  },
  {
   "cell_type": "markdown",
   "id": "7cd62a11-3694-4a75-ac5d-e615f8181bff",
   "metadata": {},
   "source": [
    "#### **Check null values**"
   ]
  },
  {
   "cell_type": "code",
   "execution_count": 45,
   "id": "66f77788-e352-461d-a440-ccd27dfb3d6b",
   "metadata": {},
   "outputs": [
    {
     "name": "stdout",
     "output_type": "stream",
     "text": [
      "<class 'pandas.core.frame.DataFrame'>\n",
      "RangeIndex: 891 entries, 0 to 890\n",
      "Data columns (total 10 columns):\n",
      " #   Column       Non-Null Count  Dtype\n",
      "---  ------       --------------  -----\n",
      " 0   PassengerId  891 non-null    int64\n",
      " 1   Survived     891 non-null    int64\n",
      " 2   Pclass       891 non-null    int64\n",
      " 3   Sex          891 non-null    int32\n",
      " 4   Age          891 non-null    int32\n",
      " 5   Fare         891 non-null    int32\n",
      " 6   Embarked     891 non-null    int32\n",
      " 7   Title        891 non-null    int64\n",
      " 8   FamilySize   891 non-null    int64\n",
      " 9   IsAlone      891 non-null    int64\n",
      "dtypes: int32(4), int64(6)\n",
      "memory usage: 55.8 KB\n"
     ]
    }
   ],
   "source": [
    "# training data \n",
    "train_df.info()"
   ]
  },
  {
   "cell_type": "code",
   "execution_count": 46,
   "id": "5614b64b-e07f-4b89-a650-421b2539a034",
   "metadata": {},
   "outputs": [
    {
     "name": "stdout",
     "output_type": "stream",
     "text": [
      "<class 'pandas.core.frame.DataFrame'>\n",
      "RangeIndex: 418 entries, 0 to 417\n",
      "Data columns (total 9 columns):\n",
      " #   Column       Non-Null Count  Dtype  \n",
      "---  ------       --------------  -----  \n",
      " 0   PassengerId  418 non-null    int64  \n",
      " 1   Pclass       418 non-null    int64  \n",
      " 2   Sex          418 non-null    int32  \n",
      " 3   Age          418 non-null    int32  \n",
      " 4   Fare         418 non-null    int32  \n",
      " 5   Embarked     418 non-null    int32  \n",
      " 6   Title        418 non-null    float64\n",
      " 7   FamilySize   418 non-null    int64  \n",
      " 8   IsAlone      418 non-null    int64  \n",
      "dtypes: float64(1), int32(4), int64(4)\n",
      "memory usage: 23.0 KB\n"
     ]
    }
   ],
   "source": [
    "# test data \n",
    "test_df.info()"
   ]
  },
  {
   "cell_type": "markdown",
   "id": "08989733-7403-422f-9e58-2364de8b6fa1",
   "metadata": {},
   "source": [
    "## **Model, Predict and Solve**"
   ]
  },
  {
   "cell_type": "markdown",
   "id": "3bdf5895-f6d2-4abb-9eff-7ae408840b61",
   "metadata": {},
   "source": [
    "Since our problem is supervised learning with classification, the models we can use are:"
   ]
  },
  {
   "cell_type": "markdown",
   "id": "70c1fa0a-2d6f-44ef-a575-a4bca30a4a3d",
   "metadata": {},
   "source": [
    "- Logistic Regression\n",
    "- KNN or k-Nearest Neighbors\n",
    "- Support Vector Machines\n",
    "- Naive Bayes classifier\n",
    "- Decision Tree\n",
    "- Random Forrest\n",
    "- Perceptron\n",
    "- Artificial neural network\n",
    "- RVM or Relevance Vector Machine"
   ]
  },
  {
   "cell_type": "markdown",
   "id": "afe50528-ee49-4fef-bf3e-346b3d35407a",
   "metadata": {},
   "source": [
    "#### **Prepare training and test dataframe**"
   ]
  },
  {
   "cell_type": "code",
   "execution_count": 47,
   "id": "eeea7053-6acc-497d-ad8a-25e1df261940",
   "metadata": {},
   "outputs": [],
   "source": [
    "X_train = train_df.drop(['PassengerId','Survived'],axis=1)\n",
    "Y_train = train_df['Survived']\n",
    "\n",
    "X_test = test_df.drop('PassengerId',axis=1).copy()\n",
    "# copy() is used to ensure any changes made does not affect original test_df\n",
    "# not needed for X_train as it is understood that changes wil be made to training data"
   ]
  },
  {
   "cell_type": "code",
   "execution_count": 48,
   "id": "f8af4966-f31b-44c8-9f0f-1ac18496893f",
   "metadata": {},
   "outputs": [
    {
     "data": {
      "text/html": [
       "<div>\n",
       "<style scoped>\n",
       "    .dataframe tbody tr th:only-of-type {\n",
       "        vertical-align: middle;\n",
       "    }\n",
       "\n",
       "    .dataframe tbody tr th {\n",
       "        vertical-align: top;\n",
       "    }\n",
       "\n",
       "    .dataframe thead th {\n",
       "        text-align: right;\n",
       "    }\n",
       "</style>\n",
       "<table border=\"1\" class=\"dataframe\">\n",
       "  <thead>\n",
       "    <tr style=\"text-align: right;\">\n",
       "      <th></th>\n",
       "      <th>Pclass</th>\n",
       "      <th>Sex</th>\n",
       "      <th>Age</th>\n",
       "      <th>Fare</th>\n",
       "      <th>Embarked</th>\n",
       "      <th>Title</th>\n",
       "      <th>FamilySize</th>\n",
       "      <th>IsAlone</th>\n",
       "    </tr>\n",
       "  </thead>\n",
       "  <tbody>\n",
       "    <tr>\n",
       "      <th>0</th>\n",
       "      <td>3</td>\n",
       "      <td>0</td>\n",
       "      <td>1</td>\n",
       "      <td>0</td>\n",
       "      <td>0</td>\n",
       "      <td>5</td>\n",
       "      <td>2</td>\n",
       "      <td>0</td>\n",
       "    </tr>\n",
       "    <tr>\n",
       "      <th>1</th>\n",
       "      <td>1</td>\n",
       "      <td>1</td>\n",
       "      <td>2</td>\n",
       "      <td>3</td>\n",
       "      <td>1</td>\n",
       "      <td>1</td>\n",
       "      <td>2</td>\n",
       "      <td>0</td>\n",
       "    </tr>\n",
       "    <tr>\n",
       "      <th>2</th>\n",
       "      <td>3</td>\n",
       "      <td>1</td>\n",
       "      <td>1</td>\n",
       "      <td>1</td>\n",
       "      <td>0</td>\n",
       "      <td>2</td>\n",
       "      <td>1</td>\n",
       "      <td>1</td>\n",
       "    </tr>\n",
       "    <tr>\n",
       "      <th>3</th>\n",
       "      <td>1</td>\n",
       "      <td>1</td>\n",
       "      <td>2</td>\n",
       "      <td>3</td>\n",
       "      <td>0</td>\n",
       "      <td>1</td>\n",
       "      <td>2</td>\n",
       "      <td>0</td>\n",
       "    </tr>\n",
       "    <tr>\n",
       "      <th>4</th>\n",
       "      <td>3</td>\n",
       "      <td>0</td>\n",
       "      <td>2</td>\n",
       "      <td>1</td>\n",
       "      <td>0</td>\n",
       "      <td>5</td>\n",
       "      <td>1</td>\n",
       "      <td>1</td>\n",
       "    </tr>\n",
       "  </tbody>\n",
       "</table>\n",
       "</div>"
      ],
      "text/plain": [
       "   Pclass  Sex  Age  Fare  Embarked  Title  FamilySize  IsAlone\n",
       "0       3    0    1     0         0      5           2        0\n",
       "1       1    1    2     3         1      1           2        0\n",
       "2       3    1    1     1         0      2           1        1\n",
       "3       1    1    2     3         0      1           2        0\n",
       "4       3    0    2     1         0      5           1        1"
      ]
     },
     "execution_count": 48,
     "metadata": {},
     "output_type": "execute_result"
    }
   ],
   "source": [
    "X_train.head()"
   ]
  },
  {
   "cell_type": "code",
   "execution_count": 49,
   "id": "4b2ab0fb-3fcf-4f12-a42f-2fbd58e4c6c5",
   "metadata": {},
   "outputs": [
    {
     "data": {
      "text/html": [
       "<div>\n",
       "<style scoped>\n",
       "    .dataframe tbody tr th:only-of-type {\n",
       "        vertical-align: middle;\n",
       "    }\n",
       "\n",
       "    .dataframe tbody tr th {\n",
       "        vertical-align: top;\n",
       "    }\n",
       "\n",
       "    .dataframe thead th {\n",
       "        text-align: right;\n",
       "    }\n",
       "</style>\n",
       "<table border=\"1\" class=\"dataframe\">\n",
       "  <thead>\n",
       "    <tr style=\"text-align: right;\">\n",
       "      <th></th>\n",
       "      <th>Pclass</th>\n",
       "      <th>Sex</th>\n",
       "      <th>Age</th>\n",
       "      <th>Fare</th>\n",
       "      <th>Embarked</th>\n",
       "      <th>Title</th>\n",
       "      <th>FamilySize</th>\n",
       "      <th>IsAlone</th>\n",
       "    </tr>\n",
       "  </thead>\n",
       "  <tbody>\n",
       "    <tr>\n",
       "      <th>0</th>\n",
       "      <td>3</td>\n",
       "      <td>0</td>\n",
       "      <td>2</td>\n",
       "      <td>0</td>\n",
       "      <td>1</td>\n",
       "      <td>5.0</td>\n",
       "      <td>1</td>\n",
       "      <td>1</td>\n",
       "    </tr>\n",
       "    <tr>\n",
       "      <th>1</th>\n",
       "      <td>3</td>\n",
       "      <td>1</td>\n",
       "      <td>2</td>\n",
       "      <td>0</td>\n",
       "      <td>0</td>\n",
       "      <td>1.0</td>\n",
       "      <td>2</td>\n",
       "      <td>0</td>\n",
       "    </tr>\n",
       "    <tr>\n",
       "      <th>2</th>\n",
       "      <td>2</td>\n",
       "      <td>0</td>\n",
       "      <td>3</td>\n",
       "      <td>1</td>\n",
       "      <td>1</td>\n",
       "      <td>5.0</td>\n",
       "      <td>1</td>\n",
       "      <td>1</td>\n",
       "    </tr>\n",
       "    <tr>\n",
       "      <th>3</th>\n",
       "      <td>3</td>\n",
       "      <td>0</td>\n",
       "      <td>1</td>\n",
       "      <td>1</td>\n",
       "      <td>0</td>\n",
       "      <td>5.0</td>\n",
       "      <td>1</td>\n",
       "      <td>1</td>\n",
       "    </tr>\n",
       "    <tr>\n",
       "      <th>4</th>\n",
       "      <td>3</td>\n",
       "      <td>1</td>\n",
       "      <td>1</td>\n",
       "      <td>1</td>\n",
       "      <td>0</td>\n",
       "      <td>1.0</td>\n",
       "      <td>3</td>\n",
       "      <td>0</td>\n",
       "    </tr>\n",
       "  </tbody>\n",
       "</table>\n",
       "</div>"
      ],
      "text/plain": [
       "   Pclass  Sex  Age  Fare  Embarked  Title  FamilySize  IsAlone\n",
       "0       3    0    2     0         1    5.0           1        1\n",
       "1       3    1    2     0         0    1.0           2        0\n",
       "2       2    0    3     1         1    5.0           1        1\n",
       "3       3    0    1     1         0    5.0           1        1\n",
       "4       3    1    1     1         0    1.0           3        0"
      ]
     },
     "execution_count": 49,
     "metadata": {},
     "output_type": "execute_result"
    }
   ],
   "source": [
    "X_test.head()"
   ]
  },
  {
   "cell_type": "markdown",
   "id": "121e2e2e-1a34-4bbe-84de-5293ad79b5e5",
   "metadata": {},
   "source": [
    "#### **Support Vector Machines**"
   ]
  },
  {
   "cell_type": "code",
   "execution_count": 50,
   "id": "9cd0d950-7102-40f3-92e6-fec7f8e483f9",
   "metadata": {},
   "outputs": [
    {
     "ename": "NameError",
     "evalue": "name 'acc_svc' is not defined",
     "output_type": "error",
     "traceback": [
      "\u001b[1;31m---------------------------------------------------------------------------\u001b[0m",
      "\u001b[1;31mNameError\u001b[0m                                 Traceback (most recent call last)",
      "Cell \u001b[1;32mIn[50], line 16\u001b[0m\n\u001b[0;32m     13\u001b[0m acc_svc_train \u001b[38;5;241m=\u001b[39m \u001b[38;5;28mround\u001b[39m(svc\u001b[38;5;241m.\u001b[39mscore(X_train, Y_train)\u001b[38;5;241m*\u001b[39m\u001b[38;5;241m100\u001b[39m,\u001b[38;5;241m2\u001b[39m)\n\u001b[0;32m     15\u001b[0m \u001b[38;5;66;03m# print acc score\u001b[39;00m\n\u001b[1;32m---> 16\u001b[0m \u001b[43macc_svc\u001b[49m\n",
      "\u001b[1;31mNameError\u001b[0m: name 'acc_svc' is not defined"
     ]
    }
   ],
   "source": [
    "#svm\n",
    "\n",
    "# initialise support vector classifier model\n",
    "svc = SVC()\n",
    "\n",
    "# train the svc model using the training data with svc.fit()\n",
    "svc.fit(X_train, Y_train)\n",
    "\n",
    "# make prediction on test data with svc.predict()\n",
    "Y_pred_svc = svc.predict(X_test)\n",
    "\n",
    "# calculate accuracy of the svc model on the training data with svc.score()\n",
    "acc_svc_train = round(svc.score(X_train, Y_train)*100,2)\n",
    "\n",
    "# print acc score\n",
    "acc_svc"
   ]
  },
  {
   "cell_type": "markdown",
   "id": "2e47ff49-4a47-48d2-ae3a-475b9677db68",
   "metadata": {},
   "source": [
    "#### **k-nearest Neighbors (k-NN)**"
   ]
  },
  {
   "cell_type": "code",
   "execution_count": null,
   "id": "1cd46947-a7f4-44e0-9e16-c00deca56f7b",
   "metadata": {},
   "outputs": [
    {
     "data": {
      "text/plain": [
       "83.84"
      ]
     },
     "execution_count": 51,
     "metadata": {},
     "output_type": "execute_result"
    }
   ],
   "source": [
    "# k-NN\n",
    "\n",
    "# initialise k-nn classifier\n",
    "knn = KNeighborsClassifier(n_neighbors=5)\n",
    "\n",
    "# train knn model\n",
    "knn.fit(X_train, Y_train)\n",
    "\n",
    "# predict\n",
    "Y_pred_knn = knn.predict(X_test)\n",
    "\n",
    "# calculate accuracy\n",
    "acc_knn = round(knn.score(X_train,Y_train)*100,2)\n",
    "\n",
    "# print acc score\n",
    "acc_knn"
   ]
  },
  {
   "cell_type": "markdown",
   "id": "d5f5cdbe-b3fe-4c4d-add8-190989ebd62c",
   "metadata": {},
   "source": [
    "#### **Decision Tree**"
   ]
  },
  {
   "cell_type": "code",
   "execution_count": null,
   "id": "f83f67cb-41f9-4452-8679-c2335e56e202",
   "metadata": {},
   "outputs": [
    {
     "data": {
      "text/plain": [
       "84.29"
      ]
     },
     "execution_count": 52,
     "metadata": {},
     "output_type": "execute_result"
    }
   ],
   "source": [
    "# decision tree\n",
    "\n",
    "# initialise decisiontreeclassifier\n",
    "dt = DecisionTreeClassifier(max_depth = 5)\n",
    "\n",
    "# train the model\n",
    "dt.fit(X_train,Y_train)\n",
    "\n",
    "# predict on test data\n",
    "Y_pred_dt = dt.predict(X_test)\n",
    "\n",
    "# calculate accuracy\n",
    "acc_dt = round(dt.score(X_train,Y_train) * 100,2)\n",
    "\n",
    "# print acc score\n",
    "acc_dt"
   ]
  },
  {
   "cell_type": "markdown",
   "id": "3107223a-6547-4003-b5ae-7f049e32371d",
   "metadata": {},
   "source": [
    "#### **Random Forest**"
   ]
  },
  {
   "cell_type": "code",
   "execution_count": null,
   "id": "3bece948-7552-4ce7-9664-a51e461f7921",
   "metadata": {},
   "outputs": [
    {
     "data": {
      "text/plain": [
       "88.22"
      ]
     },
     "execution_count": 53,
     "metadata": {},
     "output_type": "execute_result"
    }
   ],
   "source": [
    "# random forest\n",
    "\n",
    "# initialise classifier\n",
    "rf = RandomForestClassifier(n_estimators = 100)\n",
    "\n",
    "# train the model\n",
    "rf.fit(X_train,Y_train)\n",
    "\n",
    "# predict on test data\n",
    "Y_pred_rf = rf.predict(X_test)\n",
    "\n",
    "# calculate accuracy\n",
    "acc_rf = round(rf.score(X_train,Y_train)*100,2)\n",
    "\n",
    "# print acc score\n",
    "acc_rf"
   ]
  },
  {
   "cell_type": "markdown",
   "id": "17df4af9-e3f1-4d2a-9368-f84b7444f922",
   "metadata": {},
   "source": [
    "#### **Model Evaluation**"
   ]
  },
  {
   "cell_type": "code",
   "execution_count": null,
   "id": "ff4d0b74-77aa-47c5-8118-0bbfdfd8de51",
   "metadata": {},
   "outputs": [
    {
     "data": {
      "text/html": [
       "<div>\n",
       "<style scoped>\n",
       "    .dataframe tbody tr th:only-of-type {\n",
       "        vertical-align: middle;\n",
       "    }\n",
       "\n",
       "    .dataframe tbody tr th {\n",
       "        vertical-align: top;\n",
       "    }\n",
       "\n",
       "    .dataframe thead th {\n",
       "        text-align: right;\n",
       "    }\n",
       "</style>\n",
       "<table border=\"1\" class=\"dataframe\">\n",
       "  <thead>\n",
       "    <tr style=\"text-align: right;\">\n",
       "      <th></th>\n",
       "      <th>Model</th>\n",
       "      <th>Algorithm Score</th>\n",
       "    </tr>\n",
       "  </thead>\n",
       "  <tbody>\n",
       "    <tr>\n",
       "      <th>3</th>\n",
       "      <td>Random Forest</td>\n",
       "      <td>88.22</td>\n",
       "    </tr>\n",
       "    <tr>\n",
       "      <th>2</th>\n",
       "      <td>Decision Tree</td>\n",
       "      <td>84.29</td>\n",
       "    </tr>\n",
       "    <tr>\n",
       "      <th>1</th>\n",
       "      <td>k-NN</td>\n",
       "      <td>83.84</td>\n",
       "    </tr>\n",
       "    <tr>\n",
       "      <th>0</th>\n",
       "      <td>Support Vector Machines</td>\n",
       "      <td>82.83</td>\n",
       "    </tr>\n",
       "  </tbody>\n",
       "</table>\n",
       "</div>"
      ],
      "text/plain": [
       "                     Model  Algorithm Score\n",
       "3            Random Forest            88.22\n",
       "2            Decision Tree            84.29\n",
       "1                     k-NN            83.84\n",
       "0  Support Vector Machines            82.83"
      ]
     },
     "execution_count": 55,
     "metadata": {},
     "output_type": "execute_result"
    }
   ],
   "source": [
    "# create a dict to store the model names and scores\n",
    "model_scores = {\n",
    "    'Model': [\n",
    "        'Support Vector Machines',\n",
    "        'k-NN',\n",
    "        'Decision Tree',\n",
    "        'Random Forest'\n",
    "    ],\n",
    "    'Algorithm Score':[\n",
    "        acc_svc,\n",
    "        acc_knn,\n",
    "        acc_dt,\n",
    "        acc_rf\n",
    "    ]\n",
    "}\n",
    "\n",
    "\n",
    "# create a df \n",
    "model_eval = pd.DataFrame(model_scores)\n",
    "\n",
    "\n",
    "# sort the df\n",
    "model_eval.sort_values(by='Algorithm Score',ascending = False)"
   ]
  },
  {
   "cell_type": "markdown",
   "id": "eae6b0fd-a292-4609-82fb-8cac8e563600",
   "metadata": {},
   "source": [
    "#### **Create Submission File**"
   ]
  },
  {
   "cell_type": "code",
   "execution_count": null,
   "id": "2d256f26-de69-406a-9a5d-4b8399d83280",
   "metadata": {},
   "outputs": [],
   "source": [
    "# create submission file for kaggle \n",
    "\n",
    "submission = pd.DataFrame({\n",
    "    'PassengerId':test_df['PassengerId'],\n",
    "    'Survived':Y_pred_rf\n",
    "})\n",
    "\n",
    "submission.to_csv('submission.csv', index=False)"
   ]
  }
 ],
 "metadata": {
  "kernelspec": {
   "display_name": "Python 3 (ipykernel)",
   "language": "python",
   "name": "python3"
  },
  "language_info": {
   "codemirror_mode": {
    "name": "ipython",
    "version": 3
   },
   "file_extension": ".py",
   "mimetype": "text/x-python",
   "name": "python",
   "nbconvert_exporter": "python",
   "pygments_lexer": "ipython3",
   "version": "3.10.6"
  }
 },
 "nbformat": 4,
 "nbformat_minor": 5
}
